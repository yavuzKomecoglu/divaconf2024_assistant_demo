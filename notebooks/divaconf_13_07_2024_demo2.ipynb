{
  "nbformat": 4,
  "nbformat_minor": 0,
  "metadata": {
    "colab": {
      "provenance": []
    },
    "kernelspec": {
      "name": "python3",
      "display_name": "Python 3"
    },
    "language_info": {
      "name": "python"
    }
  },
  "cells": [
    {
      "cell_type": "markdown",
      "source": [
        "# Create Your Own Data-Connected Assistant - DivaConf2024\n",
        "## Gemini API: Function calling with Python\n",
        "\n",
        "![Diva: Dive into AI](https://cdn.prod.website-files.com/6645f6ac57776cd5f3e4ac96/66633085e40eb51b599aedf3_indigo_soft_2.png \"Diva: Dive into AI\")\n",
        "\n",
        "https://www.divaconf.com/"
      ],
      "metadata": {
        "id": "JGgkd_CWAA_l"
      }
    },
    {
      "cell_type": "markdown",
      "source": [
        "**Install & Import Libraries**"
      ],
      "metadata": {
        "id": "kvzgrDTDJTCV"
      }
    },
    {
      "cell_type": "code",
      "source": [
        "!pip install google-generativeai==0.7.2"
      ],
      "metadata": {
        "id": "lmFvdEq0JT9a"
      },
      "execution_count": null,
      "outputs": []
    },
    {
      "cell_type": "code",
      "source": [
        "import google.generativeai as genai\n",
        "import requests\n",
        "import json\n",
        "import locale\n",
        "locale.getpreferredencoding = lambda: \"UTF-8\""
      ],
      "metadata": {
        "id": "92GiAY2hJT_s"
      },
      "execution_count": 1,
      "outputs": []
    },
    {
      "cell_type": "code",
      "source": [
        "GOOGLE_API_KEY = \"{GOOGLE AI STUDIO - API KEY}\"\n",
        "\n",
        "genai.configure(api_key=GOOGLE_API_KEY)"
      ],
      "metadata": {
        "id": "QL88TTayML3t"
      },
      "execution_count": 8,
      "outputs": []
    },
    {
      "cell_type": "markdown",
      "source": [
        "## DEMO 1 - Döviz Kuru Asistanı\n",
        "\n",
        "**Frankfurter** is an open-source API for current and historical foreign exchange rates published by the European Central Bank."
      ],
      "metadata": {
        "id": "-e8wvIemNnEV"
      }
    },
    {
      "cell_type": "code",
      "source": [
        "# Docs: https://www.frankfurter.app/docs/\n",
        "\n",
        "url = f\"https://api.frankfurter.app/latest?from=USD&to=TRY\"\n",
        "\n",
        "response = requests.get(url)\n",
        "\n",
        "if response.status_code == 200:\n",
        "  data = response.json()\n",
        "  print(data)\n",
        "  print(data[\"rates\"])"
      ],
      "metadata": {
        "colab": {
          "base_uri": "https://localhost:8080/"
        },
        "id": "CgOzBU94FeAh",
        "outputId": "89b54d80-cb26-4e6d-a30b-705be6f05219"
      },
      "execution_count": 85,
      "outputs": [
        {
          "output_type": "stream",
          "name": "stdout",
          "text": [
            "{'amount': 1.0, 'base': 'USD', 'date': '2024-07-12', 'rates': {'TRY': 33.027}}\n",
            "{'TRY': 33.027}\n"
          ]
        }
      ]
    },
    {
      "cell_type": "markdown",
      "source": [
        "**Define Python functions and a function handler**\n",
        "\n",
        "Define Python functions that you'll invoke to fetch data from an external API:"
      ],
      "metadata": {
        "id": "uCGTWmIAIVu0"
      }
    },
    {
      "cell_type": "code",
      "source": [
        "def get_exchange_rate(currency_to: str, currency_from: str):\n",
        "    \"\"\"\n",
        "    Get the exchange rate for currencies between countries\n",
        "    \"\"\"\n",
        "\n",
        "    url = f\"https://api.frankfurter.app/latest?from={currency_from}&to={currency_to}\"\n",
        "\n",
        "    response = requests.get(url)\n",
        "\n",
        "    if response.status_code == 200:\n",
        "        data = response.json()\n",
        "        return data\n",
        "    else:\n",
        "        return \"Failed exchange rate!\"\n"
      ],
      "metadata": {
        "id": "28_p4mBlFeKA"
      },
      "execution_count": 86,
      "outputs": []
    },
    {
      "cell_type": "markdown",
      "source": [
        "**Initialize model**\n",
        "\n",
        "Initialize the Gemini model with the desired model parameters and Tool that we defined earlier:"
      ],
      "metadata": {
        "id": "CDIvRHQoIvWl"
      }
    },
    {
      "cell_type": "code",
      "source": [
        "model = genai.GenerativeModel(model_name=\"gemini-1.5-pro\",\n",
        "                              tools=[get_exchange_rate]\n",
        "                              )"
      ],
      "metadata": {
        "id": "EhvPInFyFeNV"
      },
      "execution_count": 93,
      "outputs": []
    },
    {
      "cell_type": "code",
      "source": [
        "model"
      ],
      "metadata": {
        "colab": {
          "base_uri": "https://localhost:8080/"
        },
        "id": "XlsK8RkGPnCu",
        "outputId": "22908b21-4aa9-475e-f1df-da589a56dde5"
      },
      "execution_count": 94,
      "outputs": [
        {
          "output_type": "execute_result",
          "data": {
            "text/plain": [
              "genai.GenerativeModel(\n",
              "    model_name='models/gemini-1.5-pro',\n",
              "    generation_config={},\n",
              "    safety_settings={},\n",
              "    tools=<google.generativeai.types.content_types.FunctionLibrary object at 0x79ec82d5b220>,\n",
              "    system_instruction=None,\n",
              "    cached_content=None\n",
              ")"
            ]
          },
          "metadata": {},
          "execution_count": 94
        }
      ]
    },
    {
      "cell_type": "markdown",
      "source": [
        "**Initialize chat session**"
      ],
      "metadata": {
        "id": "YRmDE3SfHsZI"
      }
    },
    {
      "cell_type": "code",
      "source": [
        "chat = model.start_chat(enable_automatic_function_calling=True)"
      ],
      "metadata": {
        "id": "AHUXuJKdFePn"
      },
      "execution_count": 95,
      "outputs": []
    },
    {
      "cell_type": "code",
      "source": [
        "prompt = \"5 bin yuro kaç lira eder?\""
      ],
      "metadata": {
        "id": "373YinGTGLzL"
      },
      "execution_count": 99,
      "outputs": []
    },
    {
      "cell_type": "code",
      "source": [
        "from IPython.display import display, Markdown\n",
        "\n",
        "#Send Message\n",
        "response = chat.send_message(prompt)\n",
        "\n",
        "#Print Result\n",
        "display(Markdown(response.text))"
      ],
      "metadata": {
        "colab": {
          "base_uri": "https://localhost:8080/",
          "height": 46
        },
        "id": "ZkVv7ed7GL1y",
        "outputId": "74833d83-2b61-401a-fb31-034a3095a557"
      },
      "execution_count": 100,
      "outputs": [
        {
          "output_type": "display_data",
          "data": {
            "text/plain": [
              "<IPython.core.display.Markdown object>"
            ],
            "text/markdown": "5 Bin Euro, bugun itibariyle 179.830 Türk Lirası ediyor. \n"
          },
          "metadata": {}
        }
      ]
    },
    {
      "cell_type": "code",
      "source": [
        "for content in chat.history:\n",
        "    print(content.role, \"->\", [type(part).to_dict(part) for part in content.parts])\n",
        "    print('-'*80)"
      ],
      "metadata": {
        "colab": {
          "base_uri": "https://localhost:8080/"
        },
        "id": "JoF5YycxGL4Q",
        "outputId": "01a466df-30f8-4ef2-aeca-f7bdbd43cccc"
      },
      "execution_count": 101,
      "outputs": [
        {
          "output_type": "stream",
          "name": "stdout",
          "text": [
            "user -> [{'text': '5bin yuro kaç lira eder?'}]\n",
            "--------------------------------------------------------------------------------\n",
            "model -> [{'text': 'I can\\'t answer that question. I need to know which currencies \"bin\" and \"lira\" refer to. \\n'}]\n",
            "--------------------------------------------------------------------------------\n",
            "user -> [{'text': '5 bin yuro kaç lira eder?'}]\n",
            "--------------------------------------------------------------------------------\n",
            "model -> [{'function_call': {'name': 'get_exchange_rate', 'args': {'currency_to': 'TRY', 'currency_from': 'EUR'}}}]\n",
            "--------------------------------------------------------------------------------\n",
            "user -> [{'function_response': {'name': 'get_exchange_rate', 'response': {'date': '2024-07-12', 'base': 'EUR', 'amount': 1.0, 'rates': {'TRY': 35.966}}}}]\n",
            "--------------------------------------------------------------------------------\n",
            "model -> [{'text': '5 Bin Euro, bugun itibariyle 179.830 Türk Lirası ediyor. \\n'}]\n",
            "--------------------------------------------------------------------------------\n"
          ]
        }
      ]
    },
    {
      "cell_type": "markdown",
      "source": [
        "## DEMO 2 - Podcast Asistanı"
      ],
      "metadata": {
        "id": "8hfIddJ1FY7D"
      }
    },
    {
      "cell_type": "markdown",
      "source": [
        "**Define Python functions and a function handler**\n",
        "\n",
        "Define Python functions that you'll invoke to fetch data from an external API:"
      ],
      "metadata": {
        "id": "e_tLgL9TIjEA"
      }
    },
    {
      "cell_type": "code",
      "source": [
        "TALKTRACK_API_TOKEN = \"{SERVICE TOKEN}\"\n",
        "TALKTRACK_API_URL_ROOT = \"https://podcast-graph-app-api.vercel.app/api\"\n",
        "\n",
        "\n",
        "def api_service_all_podcasts():\n",
        "  \"\"\"Finds all podcast information in the application.\n",
        "\n",
        "    Args:\n",
        "      None\n",
        "\n",
        "    Returns: In the podcast list;\n",
        "    - podcast_id\n",
        "    - podcast_name\n",
        "    - podcast_publisher\n",
        "    - podcast_description\n",
        "    - podcast_image_path\n",
        "    - podcast_feed_url\n",
        "    - podcast_website\n",
        "    - podcast_cover_color\n",
        "    - podcast_updated_timestamp\n",
        "    - podcast_updated_date\n",
        "    - podcast_total_episode_count\n",
        "    - podcast_genre_primary\n",
        "  \"\"\"\n",
        "\n",
        "  url = f\"{TALKTRACK_API_URL_ROOT}/podcasts/\"\n",
        "\n",
        "  headers = {\"token\": f\"{TALKTRACK_API_TOKEN}\"}\n",
        "\n",
        "  response = requests.request(\"GET\", url, headers=headers)\n",
        "\n",
        "  #print(response.status_code)\n",
        "  #print(response.text)\n",
        "\n",
        "  message = \"\"\n",
        "  status_code = response.status_code\n",
        "\n",
        "  if response.status_code == 200:\n",
        "    records = json.loads(response.text)\n",
        "    #print(json.dumps(records, indent=4))\n",
        "\n",
        "    return records\n",
        "  else:\n",
        "    result = json.loads(response.text)\n",
        "    error_message = result[\"message\"]\n",
        "    error_code = result[\"code\"]\n",
        "\n",
        "    message = error_message\n",
        "\n",
        "  return {\"status_code\": status_code, \"message\": message}\n",
        "\n",
        "\n",
        "def last_episodes_by_podcast_id(podcast_id: str):\n",
        "  \"\"\"Search last episodes by podcast id\n",
        "\n",
        "  Args:\n",
        "        podcast_id: The unique ID of the podcaster obtained from the entire podcast query.\n",
        "\n",
        "  Returns: In addition to podcast information, episode information;\n",
        "  - episode_id\n",
        "  - episode_guid\n",
        "  - episode_audio_url\n",
        "  - episode_name\n",
        "  - episode_summary\n",
        "  - episode_description\n",
        "  - episode_duration\n",
        "  - episode_duration_timestamp\n",
        "  - episode_published_timestamp\n",
        "  - episode_published_date\n",
        "  - podcast_id\n",
        "  - podcast_name\n",
        "  - is_processed_data\n",
        "  \"\"\"\n",
        "\n",
        "  url = f\"{TALKTRACK_API_URL_ROOT}/episodes/last_episodes_by_podcast_id\"\n",
        "\n",
        "  payload = {\n",
        "    \"podcast_id\": podcast_id,\n",
        "    \"limit\": 10\n",
        "  }\n",
        "\n",
        "  headers = {\"token\": f\"{TALKTRACK_API_TOKEN}\"}\n",
        "\n",
        "  response = requests.request(\"POST\", url, json=payload, headers=headers)\n",
        "\n",
        "  #print(response.status_code)\n",
        "  #print(response.text)\n",
        "\n",
        "  message = \"\"\n",
        "  status_code = response.status_code\n",
        "\n",
        "  if response.status_code == 200:\n",
        "    records = json.loads(response.text)\n",
        "    #print(json.dumps(records, indent=4))\n",
        "\n",
        "    return records\n",
        "  else:\n",
        "    result = json.loads(response.text)\n",
        "    error_message = result[\"message\"]\n",
        "    error_code = result[\"code\"]\n",
        "\n",
        "    message = error_message\n",
        "\n",
        "  return {\"status_code\": status_code, \"message\": message}\n"
      ],
      "metadata": {
        "id": "Xt_7ac4eil_w"
      },
      "execution_count": 128,
      "outputs": []
    },
    {
      "cell_type": "markdown",
      "source": [
        "Define a function handler that maps function call names (from your function declarations) to actual Python functions that call APIs:\n"
      ],
      "metadata": {
        "id": "vBtXhBbPIdfI"
      }
    },
    {
      "cell_type": "code",
      "source": [
        "functions = {\n",
        "    \"api_service_all_podcasts\": api_service_all_podcasts,\n",
        "    \"last_episodes_by_podcast_id\": last_episodes_by_podcast_id,\n",
        "}"
      ],
      "metadata": {
        "id": "HQsagR44Ie1Y"
      },
      "execution_count": 129,
      "outputs": []
    },
    {
      "cell_type": "markdown",
      "source": [
        "**Initialize model**\n",
        "\n",
        "Initialize the Gemini model with the desired model parameters and Tool that we defined earlier:"
      ],
      "metadata": {
        "id": "qlLfPOmNP0QK"
      }
    },
    {
      "cell_type": "code",
      "source": [
        "#generation_config = {\n",
        "#    \"temperature\": 0\n",
        "#}\n",
        "\n",
        "#model = genai.GenerativeModel(model_name=\"gemini-1.5-flash\",\n",
        "#                              tools=functions.values(),\n",
        "#                              generation_config=generation_config\n",
        "#                              )\n",
        "\n",
        "model = genai.GenerativeModel(model_name=\"gemini-1.5-pro\",\n",
        "                              tools=functions.values()\n",
        "                              )"
      ],
      "metadata": {
        "id": "ALZgkKAkWo5S"
      },
      "execution_count": 119,
      "outputs": []
    },
    {
      "cell_type": "markdown",
      "source": [
        "**Auto Function Calling**"
      ],
      "metadata": {
        "id": "8jJ0R60hAiyQ"
      }
    },
    {
      "cell_type": "code",
      "source": [
        "chat = model.start_chat(enable_automatic_function_calling=True)"
      ],
      "metadata": {
        "id": "B398u2cJZHU6"
      },
      "execution_count": 120,
      "outputs": []
    },
    {
      "cell_type": "code",
      "source": [
        "prompt = \"Nasıl Olunur'un son 3 bölümü nedir?\"\n",
        "\n",
        "response = chat.send_message(prompt)\n",
        "display(Markdown(response.text))"
      ],
      "metadata": {
        "colab": {
          "base_uri": "https://localhost:8080/",
          "height": 120
        },
        "id": "IwmXet2HuTPw",
        "outputId": "f85ca4d4-8bee-472d-aafc-5c8542496fd6"
      },
      "execution_count": 122,
      "outputs": [
        {
          "output_type": "display_data",
          "data": {
            "text/plain": [
              "<IPython.core.display.Markdown object>"
            ],
            "text/markdown": "Nasıl Olunur'un son 3 bölümü:\n\n1. **221- Nedim Saban:** (2 saat 11 dakika) \nYayınlanma tarihi: 11 Temmuz 2024\n2. **220- Ezgi Mola:** (1 saat 31 dakika) \nYayınlanma tarihi: 25 Haziran 2024\n3. **219- Ayşegül Aldinç:** (1 saat 13 dakika) \nYayınlanma tarihi: 12 Haziran 2024 \n"
          },
          "metadata": {}
        }
      ]
    },
    {
      "cell_type": "code",
      "source": [
        "prompt = \"Kırılma Noktası adlı podcaste son 5 bölümdeki konuk isimleri kimlerdir?\"\n",
        "response = chat.send_message(prompt)\n",
        "display(Markdown(response.text))"
      ],
      "metadata": {
        "colab": {
          "base_uri": "https://localhost:8080/",
          "height": 155
        },
        "id": "CKrP0chTAyQG",
        "outputId": "d879533a-4504-4479-f132-36a54bc4b0c9"
      },
      "execution_count": 123,
      "outputs": [
        {
          "output_type": "display_data",
          "data": {
            "text/plain": [
              "<IPython.core.display.Markdown object>"
            ],
            "text/markdown": "Kırılma Noktası podcastinin son 5 bölümündeki konukların isimleri şunlardır:\n\n1. Bahar Şevket\n2. Umut Şirin\n3. Nur Yeşilyurt Güçlü \n4. Aydan Taşdemir\n5. Burak Şentürk \n"
          },
          "metadata": {}
        }
      ]
    },
    {
      "cell_type": "code",
      "source": [
        "for content in chat.history:\n",
        "    print(content.role, \"->\", [type(part).to_dict(part) for part in content.parts])\n",
        "    print('-'*80)"
      ],
      "metadata": {
        "colab": {
          "base_uri": "https://localhost:8080/"
        },
        "id": "jMgIDBWjutI5",
        "outputId": "7fbb062f-a44d-48f3-d6fa-48b60da62658"
      },
      "execution_count": 124,
      "outputs": [
        {
          "output_type": "stream",
          "name": "stdout",
          "text": [
            "user -> [{'text': \"Nasıl Olunur'un son 3 bölümü nedir?\"}]\n",
            "--------------------------------------------------------------------------------\n",
            "model -> [{'function_call': {'name': 'api_service_all_podcasts', 'args': {}}}]\n",
            "--------------------------------------------------------------------------------\n",
            "user -> [{'function_response': {'name': 'api_service_all_podcasts', 'response': {'podcasts': [{'podcast_id': '1505264003', 'podcast_cover_color': '#00BC5C', 'podcast_publisher': 'M. Serdar Kuzuloğlu', 'podcast_genre_primary': 'TECH', 'podcast_image_path': 'https://is3-ssl.mzstatic.com/image/thumb/Podcasts113/v4/af/d8/ac/afd8ac9e-1485-43b6-5f5a-3be0701ba4a7/mza_4069295067848953951.jpeg/640x640bb.png', 'podcast_total_episode_count': None, 'podcast_feed_url': 'https://feeds.podcastmirror.com/zihnimin-kivrimlari', 'podcast_name': 'Zihnimin Kıvrımları', 'podcast_website': 'https://www.mserdark.com/zihnimin-kivrimlari/', 'podcast_description': 'Hayatımızın her yanını kaplayan teknoloji bizim isteğimizle mi şekilleniyor yoksa o mu bizi şekillendiriyor? Araçlarının aracı haline gelmiş insanoğlunun yüzleşmesine dair bir ifade tutanağı. Teknoloji ve Trend Yazarı M. Serdar Kuzuloğlu’nun zihin kıvrımlarına davetlisiniz.', 'podcast_updated_timestamp': None, 'podcast_updated_date': None}, {'podcast_id': '1572640234', 'podcast_feed_url': 'https://feeds.simplecast.com/npDtqJd7', 'podcast_total_episode_count': None, 'podcast_image_path': 'https://is3-ssl.mzstatic.com/image/thumb/Podcasts125/v4/9a/db/eb/9adbebd2-8b88-e54d-9155-4708a95a38c3/mza_5701839664883402044.jpg/640x640bb.png', 'podcast_updated_date': None, 'podcast_publisher': 'Seyfeddin Başsaraç, Mert Bulan', 'podcast_genre_primary': 'TECH', 'podcast_updated_timestamp': None, 'podcast_description': \"Çoğunlukla Apple, teknoloji, kitaplar ve yazılım dünyası hakkında sohbet ettiğimiz, zaman zaman da teknolojiyi hayatının bir parçası haline getirmiş konukları davet ederek yeni şeyler öğrendiğimiz bir podcast. Seyfeddin İstanbul'da yaşıyor ve MonoFor'da ürün yöneticisi olarak çalışıyor. Mert ise Hamburg'da yaşıyor ve Shopify'da yazılım geliştirici olarak çalışıyor.\", 'podcast_name': 'Farklı Düşün', 'podcast_website': 'https://farkli-dusun.simplecast.com', 'podcast_cover_color': '#0498DC'}, {'podcast_publisher': 'Storytel', 'podcast_updated_timestamp': None, 'podcast_updated_date': None, 'podcast_cover_color': '#2B2D32', 'podcast_image_path': 'https://is2-ssl.mzstatic.com/image/thumb/Podcasts125/v4/a2/e7/65/a2e765f3-be0b-23d1-da29-c8aac957d9da/mza_3773305927165867661.jpg/640x640bb.png', 'podcast_genre_primary': 'STORYTELLING', 'podcast_id': '1458003492', 'podcast_feed_url': 'https://feeds.simplecast.com/TRRbx_5C', 'podcast_website': 'https://nasil-olunur.simplecast.com', 'podcast_name': 'Nasıl Olunur', 'podcast_description': 'Nilay Örnek mikrofonu mesleklerini ustalıkla icra ettiğini düşündüğü insanlara yöneltip onlara aynı soruyu soruyor; Nasıl Olunur', 'podcast_total_episode_count': None}, {'podcast_total_episode_count': None, 'podcast_updated_date': None, 'podcast_updated_timestamp': None, 'podcast_description': 'Eran Filiba ve Ender Ahmet Yurt tarafından haftada iki yayınlanan Türkçe podcast. Türkiye ve Dünya’da teknoloji şirketlerinin nasıl ürün ve yazılım geliştirdiklerini öğrenebilmek üzerine her bölüm farklı bir şirketi misafir ediyor, ürün geliştirme süreçlerini anlamaya çalışıyoruz.', 'podcast_website': 'http://www.uretimbandi.com', 'podcast_genre_primary': 'TECH', 'podcast_cover_color': '#FF6B5F', 'podcast_name': 'Üretim Bandı', 'podcast_feed_url': 'https://www.spreaker.com/show/2760879/episodes/feed', 'podcast_publisher': 'Üretim Bandı', 'podcast_image_path': 'https://is3-ssl.mzstatic.com/image/thumb/Podcasts125/v4/4b/5a/d0/4b5ad056-55b8-f076-c8b8-3e451a3de6bc/mza_3670159721073446755.jpg/640x640bb.png', 'podcast_id': '1316366757'}, {'podcast_description': 'Uluslararası para transferi şirketi TransferGo sunar\\n\\nYurtdışına taşınmanın ve yurtdışında yaşamanın çokça merak edildiği bu dönemde hep yurtdışına gitmeyi konuşuyoruz, peki ya sonrasında neler oluyor? \\n\\nemail: bigidenesoralim@gmail.com', 'podcast_feed_url': 'https://anchor.fm/s/11464e8c/podcast/rss', 'podcast_updated_timestamp': None, 'podcast_image_path': 'https://is4-ssl.mzstatic.com/image/thumb/Podcasts125/v4/fa/17/de/fa17deac-2809-b13f-f10c-4d09be46b502/mza_9279045598460548540.jpg/640x640bb.png', 'podcast_genre_primary': 'SOCIAL_SCIENCE', 'podcast_publisher': 'Emre Onar', 'podcast_id': '1492497448', 'podcast_cover_color': '#0C0C10', 'podcast_website': 'https://anchor.fm/bi-gidene-soralim', 'podcast_name': \"Bi' Gidene Soralım | Türkçe Podcast\", 'podcast_total_episode_count': None, 'podcast_updated_date': None}, {'podcast_updated_date': None, 'podcast_website': 'https://anchor.fm/kirilmanoktasi', 'podcast_updated_timestamp': None, 'podcast_description': 'Teknoloji sektöründe çalışan insanlar olarak büyük bir değişim ve yer değiştirme içerisindeyiz. Bu podcastte bu yer değiştirme yolculuklarını konuşuyor olacağız.', 'podcast_genre_primary': 'STORYTELLING', 'podcast_image_path': 'https://is5-ssl.mzstatic.com/image/thumb/Podcasts122/v4/98/e3/c0/98e3c0a3-7091-6d54-694a-d8eb4967d087/mza_13044051537852782707.jpg/640x640bb.png', 'podcast_total_episode_count': None, 'podcast_id': '1621059757', 'podcast_feed_url': 'https://anchor.fm/s/89482400/podcast/rss', 'podcast_cover_color': '#074685', 'podcast_name': 'Kırılma Noktası', 'podcast_publisher': 'Bilge'}, {'podcast_image_path': 'https://is2-ssl.mzstatic.com/image/thumb/Podcasts112/v4/33/50/be/3350be71-69e2-c721-046c-7aa9f33713a5/mza_13385599715846650636.jpeg/640x640bb.png', 'podcast_website': 'https://art19.com/shows/baris-ozcan-ile-111-hz', 'podcast_publisher': 'Podbee Media', 'podcast_description': \"Öyle hikayeler vardır ki onları sadece dinleyerek anlayabilirsiniz. Barış Özcan, sanat, tasarım ve teknoloji dünyasından en sıradışı hikayeleri paylaştığı '111 Hz' ile sizleri eşsiz bir işitsel yolculuğa davet ediyor. Kulaklıklarınızı takın ve yepyeni bir deneyime hazır olun.\", 'podcast_updated_date': None, 'podcast_name': 'Barış Özcan ile 111 Hz', 'podcast_cover_color': '#095460', 'podcast_updated_timestamp': None, 'podcast_total_episode_count': None, 'podcast_genre_primary': 'TECH', 'podcast_feed_url': 'https://rss.art19.com/baris-ozcan-ile-111-hz', 'podcast_id': '1574497387'}, {'podcast_genre_primary': 'SCIENCE', 'podcast_id': '1477467491', 'podcast_updated_timestamp': None, 'podcast_total_episode_count': None, 'podcast_publisher': 'Evrim Ağacı', 'podcast_website': 'https://player.whooshkaa.com/shows/evrim-agaci-ile-bilime-dair-her-sey', 'podcast_image_path': 'https://is4-ssl.mzstatic.com/image/thumb/Podcasts113/v4/56/ca/0e/56ca0e74-5a9f-2c0a-3fd4-30fde77142c4/mza_5559490795164215118.jpg/640x640bb.png', 'podcast_name': 'Evrim Ağacı ile Bilime Dair Her Şey!', 'podcast_feed_url': 'https://evrimagaci.org/rss/podcast/1', 'podcast_description': \"Evrim Ağacı'nda yayınladığımız içeriklerden yaptığımız seçkilerin çeşitli yazarlarımız ve ses sanatçılarımız tarafından seslendirilmiş versiyonlarını burada bulabilirsiniz.\", 'podcast_updated_date': None, 'podcast_cover_color': '#c5242b'}, {'podcast_description': \"Kültür, Sanat, Edebiyat, Felsefe, Psikoloji, Kişisel Gelişim, Belgesel, Film kısaca Ortamlarda Satabileceğiniz bilgilerin olduğu podcastler.\\nInstagram: instagram.com/ortamlardasatilacakbilgi/\\nTwitter: https://twitter.com/OrtamlardaB\\nReklam ve iş birlikleri için: OrtamlardaSatilacakBilgi@gmail.com\\nPatreon'dan destek olmak için:\\nwww.patreon.com/osbpatreon\", 'podcast_genre_primary': 'SOCIAL_SCIENCE', 'podcast_cover_color': '#e0cc30', 'podcast_name': 'Ortamlarda Satılacak Bilgi', 'podcast_website': 'https://www.podcastbpt.com/ortamlarda-satilacak-bilgi', 'podcast_feed_url': 'https://anchor.fm/s/44a38a74/podcast/rss', 'podcast_image_path': 'https://is5-ssl.mzstatic.com/image/thumb/Podcasts122/v4/92/be/7b/92be7b8d-1b03-3d23-3aad-f56bf7230417/mza_13965151882947800456.jpg/640x640bb.png', 'podcast_id': '1549686147', 'podcast_updated_timestamp': None, 'podcast_publisher': 'Podcast BPT', 'podcast_total_episode_count': None, 'podcast_updated_date': None}, {'podcast_website': 'https://www.trendyol.com', 'podcast_cover_color': '#020202', 'podcast_description': 'Trendyol Tech ekibinin deneyimlerini paylaşıldığı, farklı konseptlerde podcastler!', 'podcast_total_episode_count': None, 'podcast_image_path': 'https://is3-ssl.mzstatic.com/image/thumb/Podcasts112/v4/77/f0/6c/77f06c73-36bc-c7a1-34fc-edddc5f8de7a/mza_1890266297670393229.jpg/640x640bb.png', 'podcast_name': 'Trendyol Tech Podcasts', 'podcast_feed_url': 'https://feeds.simplecast.com/yR1Q30dP', 'podcast_updated_date': None, 'podcast_genre_primary': 'TECH', 'podcast_updated_timestamp': None, 'podcast_id': '1533091931', 'podcast_publisher': 'Trendyol'}, {'podcast_publisher': 'Bubble Works Media', 'podcast_updated_date': None, 'podcast_feed_url': 'https://feeds.megaphone.fm/GOOIN9052529152', 'podcast_genre_primary': 'TECH', 'podcast_website': 'https://bubbleworksmedia.com/', 'podcast_name': '5 Dakikada Teknoloji Gündemi', 'podcast_description': \"Hafta içi her gün, dünyadan ve Türkiye'den teknoloji ve girişimcilikle ilgili yaşanan gündemin 10 dakikadan kısa bir sürede anlatıldığı Bubble Works Media podcastidir. Co-Hostlar Berkay Yılmazalp, Atakan Babacan ve Seha Gürbüz.\", 'podcast_total_episode_count': None, 'podcast_cover_color': '#0a0619', 'podcast_updated_timestamp': None, 'podcast_id': '1543327302', 'podcast_image_path': 'https://is1-ssl.mzstatic.com/image/thumb/Podcasts112/v4/11/9c/9e/119c9eaa-159e-2d76-7a95-52806af6e061/mza_3960727210335580839.jpg/640x640bb.png'}, {'podcast_feed_url': 'https://feeds.megaphone.fm/5-dakikada-dunya-gundemi', 'podcast_cover_color': '#960017', 'podcast_updated_timestamp': None, 'podcast_image_path': 'https://is4-ssl.mzstatic.com/image/thumb/Podcasts112/v4/2a/33/be/2a33be7b-284c-e7df-1f31-7e20aec75bab/mza_9984728640917636452.jpeg/640x640bb.png', 'podcast_description': \"5 Dakikada Dünya Gündemi, Özlem Gürses’le hafta içi her gün, dünyadan ve Türkiye'den gündeme dair mutlaka kaçırmaman gereken haberleri en yalın ve anlaşılır halleriyle sana ulaştırdığımız Pusholder ve Bubble Works Media podcastidir.\\nSoru, öneri ve iş birlikleri için: info@bubbleworksmedia.com\", 'podcast_genre_primary': 'NEWS_AND_POLITICS', 'podcast_website': 'https://bubbleworksmedia.com/', 'podcast_updated_date': None, 'podcast_total_episode_count': None, 'podcast_publisher': 'Pusholder / Bubble Works Media', 'podcast_id': '1655980733', 'podcast_name': '5 Dakikada Dünya Gündemi'}, {'podcast_feed_url': 'https://www.omnycontent.com/d/playlist/5af088d6-01f8-4b3d-b372-acb600f45df6/7f811153-ad86-4d47-9c19-add600acc0ee/1d9746d5-dce9-44ea-92d6-add600bea722/podcast.rss', 'podcast_website': 'https://karnaval.com/programlar/iste-gelecek', 'podcast_id': '1593662389', 'podcast_cover_color': '#244E7F', 'podcast_description': \"2 Girişimci 1 Gazeteci 3 Kadın'ın sunduğu İş'te Gelecek podcast serisinde; çeşitli sektörlerin önemli yöneticileriyle, kendi alanında başarıya ulaşmış girişimcilerle, sektöründe inovasyon yaratmış isimlerle  iş dünyasının gelecek perspektifi ve geleceğe yön veren projeler konuşuluyor.\\nReklam ve iş birliği talepleriniz için: podcastsatis@karnaval.com\", 'podcast_total_episode_count': None, 'podcast_name': \"İş'te Gelecek\", 'podcast_publisher': 'Şehnaz Aygül, Burcu Tuvay, Selin Özocak via karnaval.com', 'podcast_updated_date': None, 'podcast_genre_primary': 'BUSINESS_MANAGEMENT_AND_MARKETING', 'podcast_image_path': 'https://is2-ssl.mzstatic.com/image/thumb/Podcasts116/v4/a9/b0/58/a9b0586e-e73a-3ab9-4815-14037a5793a9/mza_522010877520623505.jpg/640x640bb.png', 'podcast_updated_timestamp': None}, {'podcast_publisher': 'Immanuel Tolstoyevski | Podbee Media', 'podcast_name': 'Fularsız Entellik', 'podcast_genre_primary': 'PHILOSOPHY_AND_OTHER_BIG_IDEAS', 'podcast_image_path': 'https://is3-ssl.mzstatic.com/image/thumb/Podcasts124/v4/1f/3a/fc/1f3afcd4-004b-46cc-b7b1-f12e045d8ff5/mza_9554251179578059084.jpeg/640x640bb.png', 'podcast_updated_date': None, 'podcast_feed_url': 'https://rss.art19.com/fularsz-entellik', 'podcast_updated_timestamp': None, 'podcast_website': 'https://art19.com/shows/fularsz-entellik', 'podcast_total_episode_count': None, 'podcast_description': 'Halk için, halka rağmen entellik. İlginç konular + eleştirel düşünce + bildiğin Türkçe.', 'podcast_id': '1471554610', 'podcast_cover_color': '#7A2787'}, {'podcast_publisher': 'Odadaki Fil', 'podcast_feed_url': 'https://odadakifil.libsyn.com/rss', 'podcast_id': '1494356847', 'podcast_genre_primary': 'COMEDY', 'podcast_updated_date': None, 'podcast_image_path': 'https://is4-ssl.mzstatic.com/image/thumb/Podcasts126/v4/d1/eb/7e/d1eb7e51-7320-5ae5-a646-e1fc90860b09/mza_16524865780552517020.png/640x640bb.png', 'podcast_name': 'Odadaki Fil', 'podcast_cover_color': '#020202', 'podcast_description': \"Fatih Aker ve Doktor, odadaki filin peşinden tuzlukla koşuyorlar.\\nYeni bölümlerden haberdar olmak için instagram'da odadaki_fil hesabını ya da spotify, apple podcasts vb. platformlarda sayfamızı takip ederseniz dünya daha güzel bir yer olabilir.\\nhttps://www.instagram.com/odadaki_fil/\", 'podcast_updated_timestamp': None, 'podcast_total_episode_count': None, 'podcast_website': 'http://odadakifil.libsyn.com/'}, {'podcast_publisher': 'veri tezgahi', 'podcast_genre_primary': 'TECH', 'podcast_total_episode_count': None, 'podcast_image_path': 'https://is3-ssl.mzstatic.com/image/thumb/Podcasts124/v4/93/14/c4/9314c4e8-ae7f-036a-5761-f94321ccc730/mza_8883296845124059482.jpg/640x640bb.png', 'podcast_updated_date': None, 'podcast_updated_timestamp': None, 'podcast_name': 'Veri Tezgahı', 'podcast_cover_color': '#616FB1', 'podcast_feed_url': 'https://anchor.fm/s/9fb4984/podcast/rss', 'podcast_id': '1525335606', 'podcast_website': 'https://anchor.fm/veri-tezgahi', 'podcast_description': 'Machine Learning ve Yapay Zeka uygulamalarının endüstri ve akademi içerisindeki kullanımlarını uzmanlarıyla tartıştığımız haftalık podcast.\\nTwitter: @veritezgahi\\nwebsite: https://anchor.fm/veri-tezgahi'}, {'podcast_publisher': 'Codefiction Community', 'podcast_image_path': 'https://is4-ssl.mzstatic.com/image/thumb/Music71/v4/1a/49/7b/1a497bef-94ad-3fc5-5672-7cfe079497aa/source/640x640bb.png', 'podcast_description': 'Podcast by Codefiction Community', 'podcast_name': 'Codefiction Podcast', 'podcast_genre_primary': 'TECH', 'podcast_website': 'http://www.codefiction.tech', 'podcast_updated_date': None, 'podcast_feed_url': 'https://feeds.simplecast.com/3Ro7Vrg6', 'podcast_id': '1172391831', 'podcast_cover_color': '#e06558', 'podcast_updated_timestamp': None, 'podcast_total_episode_count': None}, {'podcast_feed_url': 'https://feeds.megaphone.fm/swipelinepodcasttr', 'podcast_total_episode_count': None, 'podcast_image_path': 'https://is4-ssl.mzstatic.com/image/thumb/Podcasts122/v4/98/65/11/986511a3-3ddd-0612-9659-fa89b5840746/mza_11392681001854530649.jpg/640x640bb.png', 'podcast_description': 'Türkiye’de ve Dünyada teknolojiye yön veren insanları, girişimcileri konuk edip; hikayelerini, şirketi nasıl büyüttüklerini, başarılarını ve başarısızlıklarını dinliyoruz. Hostlar: Umut Yaka ve Erdem Şentunalı. Daha fazla girişimcilik ve teknoloji içerikleri için Instagram hesabımızı takip edin: @swipeline_tr', 'podcast_updated_timestamp': None, 'podcast_genre_primary': 'ENTREPRENEURSHIP', 'podcast_name': 'Swipeline', 'podcast_publisher': 'Swipeline', 'podcast_updated_date': None, 'podcast_id': '1459800092', 'podcast_cover_color': '#282828', 'podcast_website': 'https://www.swipeline.co/'}, {'podcast_id': '1532120385', 'podcast_updated_date': None, 'podcast_cover_color': '#f99a21', 'podcast_publisher': 'Podfresh: Uraz Kaspar & Aykut İbrişim', 'podcast_image_path': 'https://is3-ssl.mzstatic.com/image/thumb/Podcasts116/v4/fd/d0/32/fdd03267-e92b-dd25-31cf-d059d9c29c91/mza_2550420407764065852.jpg/640x640bb.png', 'podcast_description': 'Türkiye\\'nin ilk günlük Podcast Bülteni! \"Podfresh Daily\"; Uraz Kaspar ve Aykut İbrişim tarafından hazırlanıp sunulan bir mikro-podcast yayınıdır. Her sabah saat tam 10:00\\'da, Türkiye\\'den ve Dünya\\'dan podcast sektörüne ait güncel gelişmeleri, podcast haberlerini, yeni podcast duyurularını günlük olarak yorumladığımız bültenimizi keyifle dinleyebilirsiniz!', 'podcast_updated_timestamp': None, 'podcast_genre_primary': 'TECH', 'podcast_website': 'https://cms.megaphone.fm/channel/podfresh-daily', 'podcast_total_episode_count': None, 'podcast_feed_url': 'https://feeds.megaphone.fm/podfresh-daily', 'podcast_name': 'Podfresh Daily'}, {'podcast_name': 'Haddini Aşan Yaşam Rehberi', 'podcast_feed_url': 'https://rss.art19.com/haddini-asan-yasam-rehberi', 'podcast_updated_date': None, 'podcast_genre_primary': 'TECH', 'podcast_image_path': 'https://is1-ssl.mzstatic.com/image/thumb/Podcasts112/v4/c7/a9/e5/c7a9e533-6a17-8a41-1095-c494475cf2ef/mza_9685882508596495867.jpeg/640x640bb.png', 'podcast_cover_color': '#7DB37E', 'podcast_id': '1732994227', 'podcast_website': 'https://art19.com/shows/haddini-asan-yasam-rehberi', 'podcast_total_episode_count': None, 'podcast_description': \"Bu çağın belirsizliğine yaraşır şekilde, haddini bilmek ile aşmak arasında savrulanların acil durum toplanma alanı; Haddini Aşan Yaşam Rehberi'ne hoşgeldiniz! M. Serdar Kuzuloğlu ve Podbee Media'nın beraber hazırladığı Haddini Aşan Yaşam Rehberi podcast'i hayata sorular yöneltmenin, öğrendiklerini aktarmanın, bilmediklerini ise bilenlere sormanın vesilesi.\", 'podcast_updated_timestamp': None, 'podcast_publisher': 'Podbee Media'}, {'podcast_genre_primary': 'FOOD', 'podcast_feed_url': 'https://feeds.simplecast.com/leyT8Ibc', 'podcast_cover_color': '#a98764', 'podcast_website': 'https://yemekte-bile-yemek-konusuyoruz.simplecast.com', 'podcast_name': 'Yemekte Bile Yemek Konuşuyoruz', 'podcast_total_episode_count': None, 'podcast_image_path': 'https://is1-ssl.mzstatic.com/image/thumb/Podcasts112/v4/65/d7/3d/65d73d8e-b16a-678f-842f-0538bda9dac8/mza_5331466772051258548.jpg/640x640bb.png', 'podcast_updated_date': None, 'podcast_id': '1732921810', 'podcast_publisher': 'Nilay Örnek, Sinan Hamamsarılar', 'podcast_updated_timestamp': None, 'podcast_description': \"Yemekteyken bile yemek konuşacak kadar yemeğe düşkün olanların podcasti #YBYK'ye hoş geldiniz!\\n\\nBiz Nilay Örnek ve Sinan Hamamsarılar. Bu podcast serisinde adından da anlaşılabileceği gibi, yeme-içme ve yemek kültüründen söz açacağız. \\nBazen konuklarla olacağız, bazen kendi aramızda konuşacağız.\\n\\nbilgi@yemektebileyemekkonusuyoruz.com\"}, {'podcast_publisher': 'Kolay Değil', 'podcast_id': '1478897251', 'podcast_website': 'https://anchor.fm/kolaydegil', 'podcast_updated_timestamp': None, 'podcast_name': 'Kolay Değil', 'podcast_genre_primary': 'BUSINESS_MANAGEMENT_AND_MARKETING', 'podcast_cover_color': '#0d0d0d', 'podcast_image_path': 'https://is2-ssl.mzstatic.com/image/thumb/Podcasts122/v4/b8/97/cd/b897cd2a-4dae-e8ce-321b-092011dbc5f7/mza_4345883258667310651.jpg/640x640bb.png', 'podcast_description': 'Hayatımız günlük koşuşturmanın içinde akıp gidiyor. İster kendi işinizin sahibi, isterseniz çalışan olun. Hepimiz biliyoruz ki iş hayatı hiç #kolaydegil. Bunu hem kendimiz, hem de sizin için kolaylaştırmak istiyoruz.', 'podcast_feed_url': 'https://anchor.fm/s/d72d7f8/podcast/rss', 'podcast_updated_date': None, 'podcast_total_episode_count': None}, {'podcast_id': '1672506404', 'podcast_cover_color': '##141935', 'podcast_updated_timestamp': None, 'podcast_genre_primary': 'ENTREPRENEURSHIP', 'podcast_total_episode_count': None, 'podcast_name': 'Ussal Şahbaz ile Global İşler +', 'podcast_publisher': 'Wand Media Network', 'podcast_image_path': 'https://is5-ssl.mzstatic.com/image/thumb/Podcasts116/v4/26/cc/83/26cc835a-0dd7-691d-95c3-9e5ecaf58d99/mza_8302559647996509508.jpg/640x640bb.png', 'podcast_description': 'İki haftada bir, Ussal Şahbaz teknoloji, toplum ve politikanın teknoloji, toplum, politika kesişiminde dünyada olup bitenlerin Türkiye’ye yansımalarını tartışıyor. Teknoloji, sanat ve siyaset dünyasında ilginç konuklar yatırılmayan konuları masaya yatırıyor. Dünyada ve Türkiye’de en büyük startup dolandırıcılıkları neler? Yapay zeka falınıza bakabilir mi? Medya işinden para kazanmak mümkün mü? Buna benzer soruların cevaplarını merak ediyorsanız, bu podcasti kaçırmayın!', 'podcast_feed_url': 'https://www.spreaker.com/show/5782648/episodes/feed', 'podcast_website': 'https://www.ussal.net/', 'podcast_updated_date': None}, {'podcast_total_episode_count': None, 'podcast_cover_color': '#7f16f6', 'podcast_website': 'https://ai-podcast-website.vercel.app', 'podcast_feed_url': 'https://ai-podcast-website.vercel.app/podcast.xml', 'podcast_updated_timestamp': None, 'podcast_name': 'AI Podcast', 'podcast_updated_date': None, 'podcast_genre_primary': 'SELF_IMPROVEMENT', 'podcast_description': 'Yapay zeka konularında uzman kişileri konuk ederek onlara yapay zekanın farklı kullanım alanları hakkında sorular soruyor ve güncel teknojiler hakkında görüşlerini alıyoruz.', 'podcast_publisher': 'AI and \"Yavuz Kömeçoğlu\" collaboration', 'podcast_id': '1712368675', 'podcast_image_path': 'https://is1-ssl.mzstatic.com/image/thumb/Podcasts126/v4/6a/88/55/6a88557c-6be9-b146-b0fe-b16266c7ac63/mza_6653564627537911275.png/640x640bb.png'}]}}}]\n",
            "--------------------------------------------------------------------------------\n",
            "model -> [{'function_call': {'name': 'last_episodes_by_podcast_id', 'args': {'podcast_id': '1458003492'}}}]\n",
            "--------------------------------------------------------------------------------\n",
            "user -> [{'function_response': {'name': 'last_episodes_by_podcast_id', 'response': {'podcastepisodes': [{'podcast': {'podcast_website': 'https://nasil-olunur.simplecast.com', 'podcast_id': '1458003492', 'podcast_genre_primary': 'STORYTELLING', 'podcast_updated_timestamp': '1674033693000', 'podcast_total_episode_count': '222', 'podcast_feed_url': 'https://feeds.simplecast.com/TRRbx_5C', 'podcast_description': 'Nilay Örnek mikrofonu mesleklerini ustalıkla icra ettiğini düşündüğü insanlara yöneltip onlara aynı soruyu soruyor; Nasıl Olunur?', 'podcast_publisher': 'Storytel', 'podcast_image_path': 'https://is2-ssl.mzstatic.com/image/thumb/Podcasts125/v4/a2/e7/65/a2e765f3-be0b-23d1-da29-c8aac957d9da/mza_3773305927165867661.jpg/640x640bb.png', 'podcast_updated_date': '2023-01-18 09:21:33', 'podcast_name': 'Nasıl Olunur', 'podcast_cover_color': None}, 'episodes': [{'episode_duration_timestamp': '7863', 'episode_guid': 'c11aaf1d-a491-42c2-908b-d604a43624a9', 'episode_id': '222054201', 'podcast_id': '1458003492', 'episode_published_date': '2024-07-11', 'episode_audio_url': None, 'episode_name': '221- Nedim Saban', 'podcast_name': 'Nasıl Olunur', 'is_processed_data': False, 'episode_description': None, 'episode_summary': \"sıra televizyon için de metinler yazmış, dizi ve filmlerde rol almış bir isim.\\nAkademik bir tarafı, eğitimciliği de var. Saban ile tiyatro ve izleyiciler üzerinden bugünü, toplumu, oyun oynamayı, vefayı ve daha bir çok konuyu konuştuk. Sıkça 90'ları andığımız bölümde, Dr. Stress'ten Saklambaç'a, New York'taki çiğ köfte partisinden Danny Devito'nun dublörlüğüne enteresan konuları da kayda aldık.\", 'episode_published_timestamp': None, 'episode_duration': '02:11:03'}, {'podcast_id': '1458003492', 'is_processed_data': False, 'episode_name': '220- Ezgi Mola', 'episode_id': '218762614', 'episode_audio_url': None, 'episode_duration_timestamp': '5491', 'podcast_name': 'Nasıl Olunur', 'episode_duration': '01:31:31', 'episode_published_date': '2024-06-25', 'episode_published_timestamp': None, 'episode_description': None, 'episode_guid': '70efe20a-77e4-4df8-9a80-b46dbe7d682b', 'episode_summary': 'Bu bölümde konuğum oyuncu Ezgi Mola. \\nEzgi ile sohbete çocukluk döneminde yaşadığı bazı güçlüklerden, hayallerinden ve bu hayalleri gerçekleştirme yolunda okulunun, kişiliğinin, çalışkanlığının etkisinden konuşarak başladık. Kadın komedi ya da dram oyuncusu olmak, kilo değişimleriyle yaşanan rol dengesi, doğru yerde doğru tavır koymanın özgürleştirici etkisi, annelik, dostluklar, takıntılar, hayranlıklar ve daha pek çok konu... Yüzünüze bir gülümseme yayacak öğretici bir sohbet dinlemeye hazır olun.'}, {'episode_name': '219- Ayşegül Aldinç', 'episode_guid': '54802b13-ddd5-4f98-ae2f-ac66c6d0a624', 'episode_duration_timestamp': '4417', 'podcast_id': '1458003492', 'podcast_name': 'Nasıl Olunur', 'episode_published_date': '2024-06-12', 'episode_duration': '01:13:37', 'is_processed_data': True, 'episode_id': '215904603', 'episode_summary': \"Bu bölümde konuğum Ayşegül Aldinç. Şarkıcılığı, oyunculuğu, köşe yazıları ve kitaplarıyla yıllardır hayatımızda.\\nZamanının ötesinde, farklı, akılda ve kulakta kalan, alternatif bir sanatçı... Ayşegül Aldinç ile hem onun seramik sanatçılığından Eurovision günlerine, Barış Manço dokunuşu ile 'rocker girl' imajından efsanevi kliplerine geçmiş günlerinden bahsettik hem de bugünü onun gözünden değerlendirdik... Su gibi akan bir Nasıl Olunur bölümü sizleri bekliyor.\", 'episode_audio_url': None, 'episode_description': None, 'episode_published_timestamp': None}, {'episode_audio_url': None, 'episode_id': '211377056', 'episode_published_date': '2024-05-28', 'is_processed_data': False, 'episode_name': '218 - Buket Uzuner', 'podcast_name': 'Nasıl Olunur', 'episode_duration': '01:35:36', 'episode_duration_timestamp': '5736', 'episode_published_timestamp': None, 'episode_description': None, 'podcast_id': '1458003492', 'episode_guid': '6ec64734-75f3-446f-b812-b13980fa7789', 'episode_summary': 'Bu bölümde konuğum yazar Buket Uzuner.\\nÖğretim üyeliği de yapmış bir biyolog ve gezgin olan Uzuner ile sohbete ailesinden, özellikle de annesinden konuşarak başladık. Çocuklarına aşureyi Nuh\\'un Gemisiyle anlatan, yıldızları öğreten, hayaller kurduran bir anne... \\nBuket Uzuner ile eserlerini yazma ve araştırma sürecini, \"mesele edinme\" meselesini, rol modellerini, tarihteki kadınlara iade-i itibarı, doğayla, köklerimizle ilişkilerimizi ve daha pek çok konuyu konuştuk. Bilinç akışıyla ilerleyen, öğreten, dirilten bir sohbete hazır olun.'}, {'episode_id': '208348763', 'episode_duration_timestamp': '6790', 'podcast_id': '1458003492', 'episode_published_timestamp': None, 'episode_duration': '01:53:10', 'podcast_name': 'Nasıl Olunur', 'episode_summary': \"Nasıl Olunur'a siyasetçi konuk almama gibi bir seçimim var. Ancak Mahir Polat'ı uzaktan izliyor, konuk da etmek istiyordum... Hazır Fatih Belediye Başkanı olmamışken ve İstanbul Büyükşehir Belediyesi'ndeki (İBB) görevine dönmeden yani ne siyaset ne bürokrasi içindeyken konuk etmek istedim. Buluşacağımız gün yeniden İBB Genel Sekreter Yardımcısı oldu. E davetimden vaz mı geçecektim, sohbet ettik; iyi ki de ettik... Çok değerli bir Nasıl Olunur hikâyesi.\\nErzincan'da doğmuş 5 çocuklu bir ailenin, işçi bir babanın evladı. Bugünkü okuma tutkusunun aksine çocukken evlerinde şaşılacak kadar az kitap var. Ama her eşya, her his çok kıymetli. İstanbul'a göç, İstanbul'da bocalama, okulu terk etme, okulsuzluğu kitaplarla aşma, ilk aşk, uzun bir yol, Vakıflar Genel Müdürlüğü, bir türlü gerçekleşmeyen projeler, tam vazgeçecekken değişimler ve İBB Miras'a kadar gelen enteresan günler... \\nBeklentileri aşan ilham verici bir bölüm sizleri bekliyor.\", 'episode_published_date': '2024-05-14', 'episode_audio_url': None, 'is_processed_data': True, 'episode_guid': '303a3b4f-2592-4b6f-b73a-8ec88c168f95', 'episode_name': '217 - Mahir Polat', 'episode_description': None}, {'podcast_name': 'Nasıl Olunur', 'episode_description': None, 'episode_summary': 'Bu bölümde konuğum kendi şarkılarını da yapan bir şarkıcı ve performans sanatçısı Özge Fışkın. \\nBugünlerde tiyatro sahnelerinde, müzikallerde de görmeye başladığımız Fışkın, yıllardır Ankara ve İstanbul sahnelerinde canlı müzik dinlemeyi sevenlerin gözde isimlerinden biri. Özge ile biyoloji okuyup sahneye çıkma macerasından söz ederken bir dolu çok değerli müzisyeni de, Kemancı’dan Manhattan’a pek çok efsane mekanı da andık. Sertap Erener ile birlikte çıktıkları Eurovision yolculuğundan da söz açtık, sesi pamuklara sarılıp sarmalanası Özge’yle şan derslerinden, sesi koruma yollarından da konuştuk… \\nSultan-ı Yegâh’ı da övmelere doyamadığımız bölüm, pek bir müzikli pek bir kahkahalı, samimi… Dinleyiniz….', 'episode_published_timestamp': None, 'episode_audio_url': None, 'episode_duration_timestamp': '4702', 'episode_guid': '2d622413-6eb8-48de-a3ca-91ec225cd5d7', 'episode_id': '205648245', 'episode_name': '216 - Özge Fışkın', 'is_processed_data': True, 'episode_published_date': '2024-04-30', 'podcast_id': '1458003492', 'episode_duration': '01:18:22'}, {'episode_guid': '9dd93adc-7308-42f0-86ca-07b80681972d', 'episode_audio_url': None, 'episode_description': None, 'episode_published_date': '2024-04-16', 'is_processed_data': True, 'podcast_id': '1458003492', 'episode_duration': '01:59:35', 'episode_summary': 'Bu bölümünde konuğum tasarımcı Emrah Yücel… Ancak ‘tasarımcı’ kavramını açmak lazım.\\nYıllar yılı “Hollywood’da filmlere afiş hazırlayan Türk”, “Kill Bill’in, Frida’nın, Avatar’ın afişini o hazırladı” gibi haber başlıklarıyla adını duyduğumuz Yücel, web tasarımı, televizyon reklamı, poster ve kurumsal kimlik üzerine çalışmalarının yanı sıra ülke ve şehir markalaşması projeleriyle birlikte iletişim tasarımı da yapıyor.\\nBütün bunları ve tasarımın ‘Nasıl Olunur’unun ayrıntılarını konuştuk.\\nAncak Emrah Yücel’in çocukluğu da bir enteresan; İngiltere’de bir yıl okula yazdırılamayan bir çocuk ve işe gitmek zorunda kalan bir anne-baba, çocuklarını müzeden müzeye bırakırlarsa neler olur?\\nDolu dolu bir bölüm daha; dinleyiniz…', 'podcast_name': 'Nasıl Olunur', 'episode_duration_timestamp': '7175', 'episode_id': '203010235', 'episode_name': '215 - Emrah Yücel', 'episode_published_timestamp': None}, {'podcast_name': 'Nasıl Olunur', 'episode_summary': 'Nasıl Olunur\\'un bu bölümdeki konuğu sanat pratiğini, 50 yıldan uzun süredir, göç, bellek, kültürel kimlikler, aidiyet gibi toplumsal meselelere odaklanarak sürdüren Gülsün Karamustafa.\\nGülsün Hanım ile bugünlere nasıl geldiğini, ailesini, sanatı için neden o konuları seçtiği, bugünlerde neler yaptığı gibi konularda konuşmayı çok istiyordum; konuştuk da... Ancak sohbete onun isteğiyle, şehirlerimizden, semtlerimizden, o şehirlerin belleğimize bıraktığı hatıralardan bahsederek başladık.\\n\\nGülsün Hanım, Cihangir\\'in ilk apartmanlarından Bazlamacı Apartmanı\\'nda oturmaktadır. Geçmişe hakimdir ancak geçmişin bir gün ete kemiğe bürünüp karşısına çıkması onda bambaşka etkiler yaratır. Bir gün alışverişten dönerken apartmanlarını bambaşka bir bakışla izleyen bir çift görür. Grigoris Bazlamacı, apartmanlarını yaptıran, Olimpos Gazoz Fabrikası sahibi Nikoli Vaslamatzis (Bazlamacı)’nın oğludur. 6-7 Eylül olaylarının ardından gittiği Atina\\'dan yıllar yıllar sonra, çekinerek, korkarak eşinin ısrarıyla İstanbul\\'a gelir. Apartmanlarının durduğunu görmek onu mutlu eder. Onu evi, binaya davet eden Gülsün Karamustafa ile dostlukları ise ikisi için de çok şey değiştirir...\\nBu gibi hikayeler bize neler söyler?\\nGülsün Hanımla bunları, değişen şehirleri, www.herumutortakarar.com projesini, beni çok şaşırtan sürpriz bilgilerle dolu aile üyelerini, öğrencilik ve öğretmenlik yıllarını, sinemadan diskotek memurluğuna farklı alanlarda yaptığı işleri konuştuk. Tabii, koordinasyonunu İKSV\\'nin üstlendiği Venedik Bienali Uluslararası Sanat Sergisi Türkiye Pavyonu\\'nda sergilenen \"Oyuk ve Kırık Dökük: Bir Dünya Hâli\" adlı yerleştirmesinin sohbetini yapmayı da ihmal etmedik.', 'episode_guid': '860ef5ae-eb39-44e7-a9c5-219d297075bc', 'is_processed_data': True, 'episode_published_timestamp': None, 'episode_duration_timestamp': '4613', 'episode_audio_url': None, 'episode_id': '200618959', 'episode_duration': '01:16:53', 'episode_description': None, 'episode_name': '214 - Gülsün Karamustafa', 'episode_published_date': '2024-04-03', 'podcast_id': '1458003492'}, {'episode_duration_timestamp': '6223', 'podcast_name': 'Nasıl Olunur', 'episode_guid': '1d09a623-dcbe-4983-8afe-5c6396ddde92', 'episode_audio_url': None, 'episode_id': '198269386', 'episode_duration': '01:43:43', 'episode_published_timestamp': None, 'episode_name': '213 - Utku Ergin', 'podcast_id': '1458003492', 'episode_summary': \"Bu bölümde konuğum komedyen, stand-up sanatçısı Utku Ergin ile onun alter egosu, sahnedeki tabiriyle “Türkiye’nin en önemli ilişki uzmanı ve seksoloğu” Tutkum Kapışmak.\\nUtku Ergin ile hem stand-up'ları, bugünün komedi dünyasını hem de ‘Tutkum Kapışmak’ karakterinin sahne şovlarında, yüzlerce kişiyle yaptığı diyaloglarıyla topladığı veriler üzerinden “yeni nesil ilişkileri, cinselliği” konuştuk.\\nBilimsel değil gözlemsel veriler ama önemliler…\\n\\xa0\\n* 'Anneci erkekler', telefon karıştıranlar, her daim yedekte sevgili tutanlar, sanal dünyalar aracılığıyla 'ayağa getirilen' ilişkiler... İlişkide mutluluk hiyerarşisi nasıl?\\nAçık mikrofon nasıl başladı, bugünün stand-up ortamı nasıl, komedyenlere sunulan yeni fırsatlar, Türkiye'deki atmosferde komedi, Tuz Biber ve diğer şov ortamları, seyirci kültürü nasıl şekillendiriyor?\\nHepsi bu bölümde...\", 'is_processed_data': True, 'episode_description': None, 'episode_published_date': '2024-03-21'}, {'episode_name': '212 - Kalben Sağdıç', 'episode_summary': 'Bu bölümde konuğum kendi şarkılarının sözlerini yazan, besteleyen bir sanatçı, aynı zamanda yazar Kalben.\\n\"İnsanlar ne olursa olsun bir tutku, bir uğraş yakalar, bir beceri geliştirir, yetenek var edebilirse bir gün bütün geçmişteki sert hikayenin değişebileceğini görebilir, kendi renklerini gösterebilir...\"\\nSöyleşimizin bir yerinde özetle böyle diyor Kalben... Kendisi de bunun canlı örneği gibi...\\n\"Nasıl Olunur\"dan önce kendine \"Kalben ne işe yarar?\" sorusunu soran Kalben, sözüyle-müziğiyle yara sarıyor, keşfe çıkarıyor, cesaret veriyor. Sahne hayatından müzisyenliğe, kendini biraz saklayan bir genç kadından çok ünlü bir makyaj markasının dijital yüzü olmasına, korkularımızdan yazarlığa, eğitimden potansiyellerimizi gerçekleştirmeye Kalben ile çok farklı konuda derin derin konuştuk. Çok gerçek, çok samimi bir bölüm sizleri bekliyor...', 'is_processed_data': True, 'episode_description': None, 'episode_id': '195423165', 'episode_published_date': '2024-03-06', 'episode_duration_timestamp': '6294', 'episode_guid': 'd2956e8e-7591-413f-a36b-5df0c5533ce2', 'podcast_name': 'Nasıl Olunur', 'podcast_id': '1458003492', 'episode_audio_url': None, 'episode_duration': '01:44:54', 'episode_published_timestamp': None}]}]}}}]\n",
            "--------------------------------------------------------------------------------\n",
            "model -> [{'text': \"Nasıl Olunur'un son 3 bölümü:\\n\\n1. **221- Nedim Saban:** (2 saat 11 dakika) \\nYayınlanma tarihi: 11 Temmuz 2024\\n2. **220- Ezgi Mola:** (1 saat 31 dakika) \\nYayınlanma tarihi: 25 Haziran 2024\\n3. **219- Ayşegül Aldinç:** (1 saat 13 dakika) \\nYayınlanma tarihi: 12 Haziran 2024 \\n\"}]\n",
            "--------------------------------------------------------------------------------\n",
            "user -> [{'text': \"Nasıl Olunur'un son 3 bölümü nedir?\"}]\n",
            "--------------------------------------------------------------------------------\n",
            "model -> [{'function_call': {'name': 'last_episodes_by_podcast_id', 'args': {'podcast_id': '1458003492'}}}]\n",
            "--------------------------------------------------------------------------------\n",
            "user -> [{'function_response': {'name': 'last_episodes_by_podcast_id', 'response': {'podcastepisodes': [{'podcast': {'podcast_total_episode_count': '222', 'podcast_description': 'Nilay Örnek mikrofonu mesleklerini ustalıkla icra ettiğini düşündüğü insanlara yöneltip onlara aynı soruyu soruyor; Nasıl Olunur?', 'podcast_name': 'Nasıl Olunur', 'podcast_cover_color': None, 'podcast_publisher': 'Storytel', 'podcast_website': 'https://nasil-olunur.simplecast.com', 'podcast_genre_primary': 'STORYTELLING', 'podcast_feed_url': 'https://feeds.simplecast.com/TRRbx_5C', 'podcast_image_path': 'https://is2-ssl.mzstatic.com/image/thumb/Podcasts125/v4/a2/e7/65/a2e765f3-be0b-23d1-da29-c8aac957d9da/mza_3773305927165867661.jpg/640x640bb.png', 'podcast_id': '1458003492', 'podcast_updated_date': '2023-01-18 09:21:33', 'podcast_updated_timestamp': '1674033693000'}, 'episodes': [{'episode_duration_timestamp': '7863', 'episode_audio_url': None, 'episode_duration': '02:11:03', 'episode_name': '221- Nedim Saban', 'episode_published_date': '2024-07-11', 'episode_description': None, 'podcast_name': 'Nasıl Olunur', 'is_processed_data': False, 'podcast_id': '1458003492', 'episode_guid': 'c11aaf1d-a491-42c2-908b-d604a43624a9', 'episode_published_timestamp': None, 'episode_id': '222054201', 'episode_summary': \"sıra televizyon için de metinler yazmış, dizi ve filmlerde rol almış bir isim.\\nAkademik bir tarafı, eğitimciliği de var. Saban ile tiyatro ve izleyiciler üzerinden bugünü, toplumu, oyun oynamayı, vefayı ve daha bir çok konuyu konuştuk. Sıkça 90'ları andığımız bölümde, Dr. Stress'ten Saklambaç'a, New York'taki çiğ köfte partisinden Danny Devito'nun dublörlüğüne enteresan konuları da kayda aldık.\"}, {'is_processed_data': False, 'episode_published_timestamp': None, 'episode_description': None, 'episode_name': '220- Ezgi Mola', 'episode_summary': 'Bu bölümde konuğum oyuncu Ezgi Mola. \\nEzgi ile sohbete çocukluk döneminde yaşadığı bazı güçlüklerden, hayallerinden ve bu hayalleri gerçekleştirme yolunda okulunun, kişiliğinin, çalışkanlığının etkisinden konuşarak başladık. Kadın komedi ya da dram oyuncusu olmak, kilo değişimleriyle yaşanan rol dengesi, doğru yerde doğru tavır koymanın özgürleştirici etkisi, annelik, dostluklar, takıntılar, hayranlıklar ve daha pek çok konu... Yüzünüze bir gülümseme yayacak öğretici bir sohbet dinlemeye hazır olun.', 'episode_published_date': '2024-06-25', 'episode_duration': '01:31:31', 'podcast_id': '1458003492', 'episode_guid': '70efe20a-77e4-4df8-9a80-b46dbe7d682b', 'episode_duration_timestamp': '5491', 'episode_audio_url': None, 'episode_id': '218762614', 'podcast_name': 'Nasıl Olunur'}, {'episode_published_timestamp': None, 'is_processed_data': True, 'episode_audio_url': None, 'episode_description': None, 'episode_summary': \"Bu bölümde konuğum Ayşegül Aldinç. Şarkıcılığı, oyunculuğu, köşe yazıları ve kitaplarıyla yıllardır hayatımızda.\\nZamanının ötesinde, farklı, akılda ve kulakta kalan, alternatif bir sanatçı... Ayşegül Aldinç ile hem onun seramik sanatçılığından Eurovision günlerine, Barış Manço dokunuşu ile 'rocker girl' imajından efsanevi kliplerine geçmiş günlerinden bahsettik hem de bugünü onun gözünden değerlendirdik... Su gibi akan bir Nasıl Olunur bölümü sizleri bekliyor.\", 'episode_duration': '01:13:37', 'episode_guid': '54802b13-ddd5-4f98-ae2f-ac66c6d0a624', 'episode_name': '219- Ayşegül Aldinç', 'episode_id': '215904603', 'episode_duration_timestamp': '4417', 'podcast_name': 'Nasıl Olunur', 'podcast_id': '1458003492', 'episode_published_date': '2024-06-12'}, {'is_processed_data': False, 'episode_summary': 'Bu bölümde konuğum yazar Buket Uzuner.\\nÖğretim üyeliği de yapmış bir biyolog ve gezgin olan Uzuner ile sohbete ailesinden, özellikle de annesinden konuşarak başladık. Çocuklarına aşureyi Nuh\\'un Gemisiyle anlatan, yıldızları öğreten, hayaller kurduran bir anne... \\nBuket Uzuner ile eserlerini yazma ve araştırma sürecini, \"mesele edinme\" meselesini, rol modellerini, tarihteki kadınlara iade-i itibarı, doğayla, köklerimizle ilişkilerimizi ve daha pek çok konuyu konuştuk. Bilinç akışıyla ilerleyen, öğreten, dirilten bir sohbete hazır olun.', 'podcast_id': '1458003492', 'episode_id': '211377056', 'episode_published_timestamp': None, 'episode_audio_url': None, 'episode_description': None, 'episode_duration': '01:35:36', 'episode_name': '218 - Buket Uzuner', 'podcast_name': 'Nasıl Olunur', 'episode_published_date': '2024-05-28', 'episode_guid': '6ec64734-75f3-446f-b812-b13980fa7789', 'episode_duration_timestamp': '5736'}, {'is_processed_data': True, 'episode_duration_timestamp': '6790', 'episode_summary': \"Nasıl Olunur'a siyasetçi konuk almama gibi bir seçimim var. Ancak Mahir Polat'ı uzaktan izliyor, konuk da etmek istiyordum... Hazır Fatih Belediye Başkanı olmamışken ve İstanbul Büyükşehir Belediyesi'ndeki (İBB) görevine dönmeden yani ne siyaset ne bürokrasi içindeyken konuk etmek istedim. Buluşacağımız gün yeniden İBB Genel Sekreter Yardımcısı oldu. E davetimden vaz mı geçecektim, sohbet ettik; iyi ki de ettik... Çok değerli bir Nasıl Olunur hikâyesi.\\nErzincan'da doğmuş 5 çocuklu bir ailenin, işçi bir babanın evladı. Bugünkü okuma tutkusunun aksine çocukken evlerinde şaşılacak kadar az kitap var. Ama her eşya, her his çok kıymetli. İstanbul'a göç, İstanbul'da bocalama, okulu terk etme, okulsuzluğu kitaplarla aşma, ilk aşk, uzun bir yol, Vakıflar Genel Müdürlüğü, bir türlü gerçekleşmeyen projeler, tam vazgeçecekken değişimler ve İBB Miras'a kadar gelen enteresan günler... \\nBeklentileri aşan ilham verici bir bölüm sizleri bekliyor.\", 'episode_published_timestamp': None, 'episode_id': '208348763', 'podcast_id': '1458003492', 'episode_duration': '01:53:10', 'episode_guid': '303a3b4f-2592-4b6f-b73a-8ec88c168f95', 'episode_description': None, 'podcast_name': 'Nasıl Olunur', 'episode_published_date': '2024-05-14', 'episode_name': '217 - Mahir Polat', 'episode_audio_url': None}, {'episode_published_timestamp': None, 'episode_summary': 'Bu bölümde konuğum kendi şarkılarını da yapan bir şarkıcı ve performans sanatçısı Özge Fışkın. \\nBugünlerde tiyatro sahnelerinde, müzikallerde de görmeye başladığımız Fışkın, yıllardır Ankara ve İstanbul sahnelerinde canlı müzik dinlemeyi sevenlerin gözde isimlerinden biri. Özge ile biyoloji okuyup sahneye çıkma macerasından söz ederken bir dolu çok değerli müzisyeni de, Kemancı’dan Manhattan’a pek çok efsane mekanı da andık. Sertap Erener ile birlikte çıktıkları Eurovision yolculuğundan da söz açtık, sesi pamuklara sarılıp sarmalanası Özge’yle şan derslerinden, sesi koruma yollarından da konuştuk… \\nSultan-ı Yegâh’ı da övmelere doyamadığımız bölüm, pek bir müzikli pek bir kahkahalı, samimi… Dinleyiniz….', 'episode_id': '205648245', 'episode_guid': '2d622413-6eb8-48de-a3ca-91ec225cd5d7', 'episode_name': '216 - Özge Fışkın', 'episode_duration': '01:18:22', 'episode_description': None, 'is_processed_data': True, 'episode_audio_url': None, 'podcast_name': 'Nasıl Olunur', 'episode_duration_timestamp': '4702', 'episode_published_date': '2024-04-30', 'podcast_id': '1458003492'}, {'episode_audio_url': None, 'podcast_id': '1458003492', 'episode_published_date': '2024-04-16', 'episode_id': '203010235', 'podcast_name': 'Nasıl Olunur', 'episode_duration_timestamp': '7175', 'is_processed_data': True, 'episode_published_timestamp': None, 'episode_description': None, 'episode_summary': 'Bu bölümünde konuğum tasarımcı Emrah Yücel… Ancak ‘tasarımcı’ kavramını açmak lazım.\\nYıllar yılı “Hollywood’da filmlere afiş hazırlayan Türk”, “Kill Bill’in, Frida’nın, Avatar’ın afişini o hazırladı” gibi haber başlıklarıyla adını duyduğumuz Yücel, web tasarımı, televizyon reklamı, poster ve kurumsal kimlik üzerine çalışmalarının yanı sıra ülke ve şehir markalaşması projeleriyle birlikte iletişim tasarımı da yapıyor.\\nBütün bunları ve tasarımın ‘Nasıl Olunur’unun ayrıntılarını konuştuk.\\nAncak Emrah Yücel’in çocukluğu da bir enteresan; İngiltere’de bir yıl okula yazdırılamayan bir çocuk ve işe gitmek zorunda kalan bir anne-baba, çocuklarını müzeden müzeye bırakırlarsa neler olur?\\nDolu dolu bir bölüm daha; dinleyiniz…', 'episode_name': '215 - Emrah Yücel', 'episode_duration': '01:59:35', 'episode_guid': '9dd93adc-7308-42f0-86ca-07b80681972d'}, {'podcast_name': 'Nasıl Olunur', 'episode_description': None, 'episode_audio_url': None, 'episode_duration': '01:16:53', 'episode_published_date': '2024-04-03', 'episode_name': '214 - Gülsün Karamustafa', 'episode_summary': 'Nasıl Olunur\\'un bu bölümdeki konuğu sanat pratiğini, 50 yıldan uzun süredir, göç, bellek, kültürel kimlikler, aidiyet gibi toplumsal meselelere odaklanarak sürdüren Gülsün Karamustafa.\\nGülsün Hanım ile bugünlere nasıl geldiğini, ailesini, sanatı için neden o konuları seçtiği, bugünlerde neler yaptığı gibi konularda konuşmayı çok istiyordum; konuştuk da... Ancak sohbete onun isteğiyle, şehirlerimizden, semtlerimizden, o şehirlerin belleğimize bıraktığı hatıralardan bahsederek başladık.\\n\\nGülsün Hanım, Cihangir\\'in ilk apartmanlarından Bazlamacı Apartmanı\\'nda oturmaktadır. Geçmişe hakimdir ancak geçmişin bir gün ete kemiğe bürünüp karşısına çıkması onda bambaşka etkiler yaratır. Bir gün alışverişten dönerken apartmanlarını bambaşka bir bakışla izleyen bir çift görür. Grigoris Bazlamacı, apartmanlarını yaptıran, Olimpos Gazoz Fabrikası sahibi Nikoli Vaslamatzis (Bazlamacı)’nın oğludur. 6-7 Eylül olaylarının ardından gittiği Atina\\'dan yıllar yıllar sonra, çekinerek, korkarak eşinin ısrarıyla İstanbul\\'a gelir. Apartmanlarının durduğunu görmek onu mutlu eder. Onu evi, binaya davet eden Gülsün Karamustafa ile dostlukları ise ikisi için de çok şey değiştirir...\\nBu gibi hikayeler bize neler söyler?\\nGülsün Hanımla bunları, değişen şehirleri, www.herumutortakarar.com projesini, beni çok şaşırtan sürpriz bilgilerle dolu aile üyelerini, öğrencilik ve öğretmenlik yıllarını, sinemadan diskotek memurluğuna farklı alanlarda yaptığı işleri konuştuk. Tabii, koordinasyonunu İKSV\\'nin üstlendiği Venedik Bienali Uluslararası Sanat Sergisi Türkiye Pavyonu\\'nda sergilenen \"Oyuk ve Kırık Dökük: Bir Dünya Hâli\" adlı yerleştirmesinin sohbetini yapmayı da ihmal etmedik.', 'episode_published_timestamp': None, 'episode_id': '200618959', 'is_processed_data': True, 'episode_duration_timestamp': '4613', 'episode_guid': '860ef5ae-eb39-44e7-a9c5-219d297075bc', 'podcast_id': '1458003492'}, {'episode_guid': '1d09a623-dcbe-4983-8afe-5c6396ddde92', 'podcast_id': '1458003492', 'episode_description': None, 'episode_id': '198269386', 'episode_duration': '01:43:43', 'episode_name': '213 - Utku Ergin', 'episode_audio_url': None, 'episode_published_timestamp': None, 'episode_published_date': '2024-03-21', 'is_processed_data': True, 'episode_summary': \"Bu bölümde konuğum komedyen, stand-up sanatçısı Utku Ergin ile onun alter egosu, sahnedeki tabiriyle “Türkiye’nin en önemli ilişki uzmanı ve seksoloğu” Tutkum Kapışmak.\\nUtku Ergin ile hem stand-up'ları, bugünün komedi dünyasını hem de ‘Tutkum Kapışmak’ karakterinin sahne şovlarında, yüzlerce kişiyle yaptığı diyaloglarıyla topladığı veriler üzerinden “yeni nesil ilişkileri, cinselliği” konuştuk.\\nBilimsel değil gözlemsel veriler ama önemliler…\\n\\xa0\\n* 'Anneci erkekler', telefon karıştıranlar, her daim yedekte sevgili tutanlar, sanal dünyalar aracılığıyla 'ayağa getirilen' ilişkiler... İlişkide mutluluk hiyerarşisi nasıl?\\nAçık mikrofon nasıl başladı, bugünün stand-up ortamı nasıl, komedyenlere sunulan yeni fırsatlar, Türkiye'deki atmosferde komedi, Tuz Biber ve diğer şov ortamları, seyirci kültürü nasıl şekillendiriyor?\\nHepsi bu bölümde...\", 'episode_duration_timestamp': '6223', 'podcast_name': 'Nasıl Olunur'}, {'episode_guid': 'd2956e8e-7591-413f-a36b-5df0c5533ce2', 'podcast_id': '1458003492', 'episode_audio_url': None, 'episode_id': '195423165', 'episode_published_date': '2024-03-06', 'episode_duration_timestamp': '6294', 'episode_duration': '01:44:54', 'episode_summary': 'Bu bölümde konuğum kendi şarkılarının sözlerini yazan, besteleyen bir sanatçı, aynı zamanda yazar Kalben.\\n\"İnsanlar ne olursa olsun bir tutku, bir uğraş yakalar, bir beceri geliştirir, yetenek var edebilirse bir gün bütün geçmişteki sert hikayenin değişebileceğini görebilir, kendi renklerini gösterebilir...\"\\nSöyleşimizin bir yerinde özetle böyle diyor Kalben... Kendisi de bunun canlı örneği gibi...\\n\"Nasıl Olunur\"dan önce kendine \"Kalben ne işe yarar?\" sorusunu soran Kalben, sözüyle-müziğiyle yara sarıyor, keşfe çıkarıyor, cesaret veriyor. Sahne hayatından müzisyenliğe, kendini biraz saklayan bir genç kadından çok ünlü bir makyaj markasının dijital yüzü olmasına, korkularımızdan yazarlığa, eğitimden potansiyellerimizi gerçekleştirmeye Kalben ile çok farklı konuda derin derin konuştuk. Çok gerçek, çok samimi bir bölüm sizleri bekliyor...', 'episode_published_timestamp': None, 'podcast_name': 'Nasıl Olunur', 'episode_description': None, 'episode_name': '212 - Kalben Sağdıç', 'is_processed_data': True}]}]}}}]\n",
            "--------------------------------------------------------------------------------\n",
            "model -> [{'text': \"Nasıl Olunur'un son 3 bölümü:\\n\\n1. **221- Nedim Saban:** (2 saat 11 dakika) \\nYayınlanma tarihi: 11 Temmuz 2024\\n2. **220- Ezgi Mola:** (1 saat 31 dakika) \\nYayınlanma tarihi: 25 Haziran 2024\\n3. **219- Ayşegül Aldinç:** (1 saat 13 dakika) \\nYayınlanma tarihi: 12 Haziran 2024 \\n\"}]\n",
            "--------------------------------------------------------------------------------\n",
            "user -> [{'text': 'Kırılma Noktası adlı podcaste son 5 bölümdeki konuk isimleri kimlerdir?'}]\n",
            "--------------------------------------------------------------------------------\n",
            "model -> [{'function_call': {'name': 'last_episodes_by_podcast_id', 'args': {'podcast_id': '1621059757'}}}]\n",
            "--------------------------------------------------------------------------------\n",
            "user -> [{'function_response': {'name': 'last_episodes_by_podcast_id', 'response': {'podcastepisodes': [{'podcast': {'podcast_id': '1621059757', 'podcast_updated_timestamp': '1669911365000', 'podcast_publisher': 'Bilge', 'podcast_website': 'https://anchor.fm/kirilmanoktasi', 'podcast_cover_color': None, 'podcast_updated_date': '2022-12-01 16:16:05', 'podcast_feed_url': 'https://anchor.fm/s/89482400/podcast/rss', 'podcast_name': 'Kırılma Noktası', 'podcast_genre_primary': 'STORYTELLING', 'podcast_image_path': 'https://is5-ssl.mzstatic.com/image/thumb/Podcasts122/v4/98/e3/c0/98e3c0a3-7091-6d54-694a-d8eb4967d087/mza_13044051537852782707.jpg/640x640bb.png', 'podcast_description': 'Teknoloji sektöründe çalışan insanlar olarak büyük bir değişim ve yer değiştirme içerisindeyiz. Bu podcastte bu yer değiştirme yolculuklarını konuşuyor olacağız.', 'podcast_total_episode_count': '20'}, 'episodes': [{'episode_id': '206053997', 'podcast_name': 'Kırılma Noktası', 'is_processed_data': False, 'episode_duration_timestamp': '2678', 'episode_duration': '00:44:38', 'episode_audio_url': None, 'episode_published_timestamp': None, 'podcast_id': '1621059757', 'episode_published_date': '2024-04-30', 'episode_guid': 'd7063133-12c1-400f-b9ae-60c0c6f002fd', 'episode_name': 'S3E2 - Bahar Şevket - Gameplay Programmer - Malmö', 'episode_description': None, 'episode_summary': '<p>Bu bölüm konuğum, başarılı bir Oyun Sistemleri Programcısı olan ve İsveç&#39;te yaşamını sürdüren Bahar Şevket. Bahar, ODTÜ Bilgisayar Mühendisliği mezunu ve şu anda Dünya çapında tanınan bir oyun şirketi olan Electronic Arts (EA Games) firmasında Sims 4 oyununda çalışıyor. </p>\\n<p>Yayınımızın ana başlıkları şu şekildeydi:</p>\\n<ul>\\n <li>Bahar&#39;ın İsveç&#39;e taşınması ve oradaki hayatı</li>\\n <li>Oyun firmalarında yazılımcı olarak kariyer, çalışma şartları ve Bahar&#39;ın kariyer yolculuğu</li>\\n  <li>Oyun firmalarının mülakatları ve özellikle EA Games&#39;teki Bahar&#39;ın geçirdiği mülakat</li>\\n</ul>\\n<p>Twitter: <a href=\"https://twitter.com/bahar_sevket\" target=\"_blank\" rel=\"noopener noreferer\">https://twitter.com/bahar_sevket</a></p>\\n'}, {'episode_duration_timestamp': '4859', 'episode_summary': '<p>Umut Şirin, Discord&#39;un Tasarım Sistemleri ve Erişilebilirlik takımında Kıdemli Yazılım Mühendisi olarak görev yapıyor. California&#39;da eşiyle birlikte yaşayan ve 2 köpeği olan Umut&#39;u birçoğumuz Vadideki Geyik, Kampüs ve Kadın Yazılımcı&#39;nın Erişilebilirlik yayınlarıyla tanıdık. Bu bölümde, onun Türkiye&#39;de İTÜ&#39;de Bilişim Sistemleri Mühendisliği ile başlayıp Amerika&#39;ya, Silikon Vadisine uzanan yolculuğunu detaylarıyla ele aldık.</p>\\n<p>Yayınımızın ana başlıkları şu şekildeydi:</p>\\n<ul>\\n <li>Umut Şirin ve kariyer yolculuğu,</li>\\n <li>Amerika&#39;da H1B vizesi ve Green card ile çalışmak,</li>\\n  <li>Twitch ve Discord&#39;un mülakat süreçleri,</li>\\n  <li>Tasarım Sistemleri ve Erişilebilirlik takımlarında yazılım mühendisi olmak,</li>\\n  <li>Vadideki Geyik, Geyik Akademi, Kampüs ve Kadın Yazılımcı Erişilebilirlik Serisi</li>\\n</ul>\\n<p><br></p>\\n<p><br>00:00 - Umut Şirin Tanıtım\\n01:15 - Umut Şirin Kimdir\\n02:03 - Umut&#39;un Kariyer Yolculuğu\\n12:35 - Amerika&#39;daki iyi niyetlilik kültürü üzerine\\n16:14 - H1B vizesi ve Green card\\n29:35 - Twitch ve Discord mülakatları\\n47:30 - Tasarım Sistemleri ve Erişilebilirlik takımında çalışmak\\n59:55 - Discord iş ve çalışma kültürü\\n1:04:29 - Kampüs, Vadideki Geyik, Geyik Akademi, Kadın Yazılımcı Erişilebilirlik Serisi\\n1:19:16 - Kapanış</p>\\n', 'episode_duration': '01:20:59', 'episode_name': 'S3E1 - Umut Şirin - Kıdemli Yazılım Mühendisi - California', 'podcast_name': 'Kırılma Noktası', 'episode_audio_url': None, 'episode_published_timestamp': None, 'podcast_id': '1621059757', 'episode_description': None, 'episode_guid': '83267569-6c05-4092-8362-fa105974ad94', 'episode_published_date': '2024-03-15', 'is_processed_data': True, 'episode_id': '197499513'}, {'episode_audio_url': None, 'episode_duration': '00:56:28', 'episode_guid': '6bd3800c-4ab6-4ea2-baad-ca54fd04407a', 'episode_description': None, 'episode_name': 'S2E9 - Nur Yeşilyurt Gücü - GenAI Security Engineer - Londra', 'podcast_id': '1621059757', 'is_processed_data': True, 'episode_published_timestamp': None, 'episode_id': '181537024', 'episode_published_date': '2023-12-20', 'podcast_name': 'Kırılma Noktası', 'episode_summary': \"Nur 9 yıldır offensive security alanında startup'lar bankalar ve çeşitli şirketlerde çalışmış bir siber güvenlik aşığı. Son 2022'den bu yana Londra'da eşi, köpeği ve kedisiyle birlikte yaşıyor ve Amazon AWS'te Generative AI Security alanında çalışıyor. Airsoft ve çizim favori hobileri. Yaptığı her şeyi tutkuyla yapmaya ya da sadece tutku hissettiği şeyleri yapmaya çalışan biri olarak tanımlıyor kendisini.\\nTwitter : https://twitter.com/nuryslyrt\\nLinkedIn: https://www.linkedin.com/in/nuryesilyurt\\nKişisel Blog: https://lookbook.cyberjungles.com/ai-ml-llm-security/self-study-ai-ml-llm-roadmap-for-security-folks\\n\", 'episode_duration_timestamp': '3388'}, {'episode_published_timestamp': None, 'episode_duration': '00:43:20', 'episode_summary': '<p>Aydan Taşdemir, 33 yaşında ve Hollanda&#39;nın Utrecht şehrinde yaşıyor.\\xa0Textkernel firmasında ITOps/DevOps takım lideri olarak çalışmasının yanı sıra Maraton ve Triatlon bitirmiş bir sporcu. Aydan&#39;la bu bölümde mesleği, taşınma yolculukları, Utrecht&#39;te hayat, meslekle birlikte aktif olarak spor hayatı yürütme üzerine çok faydalı ve derin bir sohbet gerçekleştirdik. Umarım siz de beğenirsiniz.</p>\\n', 'episode_id': '177670026', 'episode_published_date': '2023-11-29', 'episode_duration_timestamp': '2600', 'episode_audio_url': None, 'episode_name': 'S2E8 - Aydan Taşdemir - ITOps/DevOps Takım Lideri - Utrecht', 'podcast_name': 'Kırılma Noktası', 'podcast_id': '1621059757', 'episode_description': None, 'episode_guid': '1e683926-7456-4ef9-8ddc-84da9613b741', 'is_processed_data': True}, {'episode_guid': 'f804f88c-d150-4224-bd24-e3c72408a5bd', 'episode_id': '174047494', 'episode_duration_timestamp': '2605', 'episode_duration': '00:43:25', 'episode_published_date': '2023-11-08', 'podcast_name': 'Kırılma Noktası', 'episode_description': None, 'episode_published_timestamp': None, 'episode_name': 'S2E7 - Burak Şentürk - Uygulama Güvenliği Uzmanı - Doha', 'episode_summary': \"Burak Şentürk Doha'da Uygulama Güvenliği Uzmanı olarak çalışıyor. Burak ile bu bölümde kariyer yolculuğunu, Katar'da çalışan ve yaşayan olma deneyimini konuştuk.\\n\\nBurak'a erişebileceğiniz kanallar:\\nLinkedIn : https://www.linkedin.com/in/mburaks\\nMedium : https://mburaks.medium.com\\n\\n.\\nBu bölümü beğendiyseniz ve podcast'in devamlılığını sağlamak ve beni motive etmek isterseniz linkten bana 1 bardak kahve ısmarlayabilirsiniz :\\xa0\\u2060https://bmc.link/kirilmanoktasi\\n\", 'is_processed_data': True, 'podcast_id': '1621059757', 'episode_audio_url': None}, {'is_processed_data': True, 'episode_id': '168171409', 'episode_published_date': '2023-10-06', 'episode_description': None, 'episode_summary': '<p>Utku Şen 2 yılı aşkın bir süredir Delivery Hero firmasının Berlin ofisinde Staff Security Engineer olarak çalışıyor. Kendisi yakın bir zamanda ülke değiştirmeye karar vererek Global Talent Vizesi aldı ve bir kaç ay içerisinde İngiltere&#39;ye taşınmış olacak. Tüm bunların yanında Utku&#39;nun müzisyenlik, vlog çekmek, podcasterlık gibi meslekleri de bulunuyor. </p>\\n<p>.</p>\\n<p>Bu bölümü beğendiyseniz ve podcast&#39;in devamlılığını sağlamak ve beni motive etmek isterseniz linkten bana 1 bardak kahve ısmarlayabilirsiniz :\\xa0<a href=\"https://bmc.link/kirilmanoktasi\" target=\"_blank\" rel=\"noopener noreferer\">https://bmc.link/kirilmanoktasi</a></p>\\n', 'episode_name': 'S2E6 - Utku Şen - Siber Güvenlik Uzmanı - Berlin', 'episode_guid': 'c63d30aa-5bca-4188-809e-1558c29d58a6', 'podcast_id': '1621059757', 'episode_audio_url': None, 'episode_duration_timestamp': '2746', 'episode_published_timestamp': None, 'episode_duration': '00:45:46', 'podcast_name': 'Kırılma Noktası'}, {'episode_published_timestamp': None, 'episode_published_date': '2023-06-19', 'episode_name': 'S2E5 - Yüksel Tolun - Bot Yazılım Geliştiricisi - Ankara', 'podcast_name': 'Kırılma Noktası', 'is_processed_data': True, 'episode_id': '148674756', 'episode_duration_timestamp': '2292', 'episode_guid': 'c32154c1-573b-426a-b650-27690ca6a941', 'episode_description': None, 'episode_duration': '00:38:12', 'episode_audio_url': None, 'episode_summary': '<p>Bu bölümün konuğu formal eğitimini avukatlık üzerine tamamlayıp, yıllarca avukatlık yaptıktan sonra meslek değişikliği gerçekleştirmiş; <strong>Yüksel Tolun</strong>. Şu anda bot yazılım geliştiricisi olarak Yosh.AI firmasında çalışıyor ve 2 ayrı konuda Google Expert ünvanı bulunuyor. Benim deyimimle cesur kendi deyimiyle kendisini zaman zaman yeniden inşa etmeyi seven biri. Gelin meslek değişikliği, hobileri ve Google Expert olma süreci de dahil olmak üzere tüm detaylar bu bölümde.</p>\\n<p><br></p>\\n<p>Bu bölümü beğendiyseniz ve podcast&#39;in devamlılığını sağlamak ve beni motive etmek isterseniz linkten bana 1 bardak kahve ısmarlayabilirsiniz :\\xa0<a href=\"https://bmc.link/kirilmanoktasi\" target=\"_blank\" rel=\"noopener noreferer\">https://bmc.link/kirilmanoktasi</a></p>\\n<p><br></p>\\n<p><br></p>\\n<p><br></p>\\n', 'podcast_id': '1621059757'}, {'episode_guid': 'ae0fb9df-dffe-4161-b14b-4fbb3c15a179', 'podcast_id': '1621059757', 'episode_audio_url': None, 'episode_name': 'S2E4 - Tuğçe Şirin - Salesforce Geliştiricisi - Madrid', 'episode_id': '144947804', 'episode_description': None, 'episode_published_date': '2023-05-29', 'episode_published_timestamp': None, 'episode_summary': '<p>Tuğçe Şirin <strong>Salesforce geliştiricisi</strong> olarak 2 tavşanı ve 1 kedisiyle <strong>Madrid’</strong>de yaşıyor ve çalışıyor. Kendisi Çanakkale 18 Mart Üniversitesi Bilgisayar Mühendisliği mezunu ve öncelikle Madrid’deki hayatına bir firmada çalışan olarak başlıyor aslında, şimdi ise kendi firmasını kurmuş ve firmalara danışmanlık yapıyor. Kariyerinin yanında <strong>RAD Women</strong> bünyesinde teknik mentorluk ve bir barınakta ihtiyaçlı hayvanlara yardım ediyor.</p>\\n<p>Twitter: <a href=\"https://twitter.com/ztugcesirin\" target=\"_blank\" rel=\"noopener noreferer\">@ztugcesirin</a></p>\\n', 'episode_duration': '00:35:55', 'is_processed_data': True, 'episode_duration_timestamp': '2155', 'podcast_name': 'Kırılma Noktası'}, {'podcast_id': '1621059757', 'episode_duration': '00:40:20', 'is_processed_data': True, 'episode_summary': '<p>Bu bölümün konuğu Yiğit Varlı, kendisi yazılım mühendisi olarak Amazon’un Dublin ofisinde çalışıyor. Yiğit aynı zamanda hala ODTÜ’de Bilgisayar Mühendisliği bölümünde 4.sınıf öğrencisi. </p>\\n<p>4 yıllık öğretim hayatına ABD ve İsviçre’de 2 adet araştırma projesi sığdırdıktan sonra okulu henüz bitmeden Amazon’da çalışmaya başlıyor. Yiğit’in Türkiye&#39;de başlayıp İrlanda’ya uzanan hikayesini gelin kendisinden dinleyelim.</p>\\n<p>Twitter : <a href=\"https://twitter.com/yigit_v4rli\" target=\"_blank\" rel=\"noopener noreferer\">@yigit_v4rli</a></p>\\n', 'episode_published_date': '2023-05-06', 'episode_published_timestamp': None, 'episode_audio_url': None, 'episode_id': '141214227', 'podcast_name': 'Kırılma Noktası', 'episode_guid': '92a9c8db-d07a-4c76-9327-ac3f90520548', 'episode_duration_timestamp': '2420', 'episode_description': None, 'episode_name': 'S2E3 - Yiğit Varlı - Yazılım Mühendisi - Dublin'}, {'podcast_id': '1621059757', 'episode_audio_url': None, 'is_processed_data': True, 'episode_duration': '00:56:50', 'episode_guid': 'c05e1cb2-488d-49b6-8e06-eb0a0a298585', 'episode_id': '130868535', 'episode_description': None, 'episode_published_date': '2023-03-20', 'episode_published_timestamp': None, 'episode_summary': '<p>İrem Ergun <strong>makine öğrenmesi mühendisi</strong> olarak çalışıyor ve <strong>California</strong>&#39;da yaşıyor. Lisansı <strong>Bilkent Üniversitesinde</strong> tamamlayan ve kendisini bir Ankara aşığı olarak tanımlayan İrem kariyerine Turkiye&#39;de iOS developer olarak başlıyor, daha sonra doktora için Amerika&#39;ya California Üniversitesine gidiyor. Orada privacy preserving machine learning, federated learning gibi konularda çalışıyor. Şu an ise <strong>CohereAI</strong> da hem <strong>Federated Learning</strong> hem de <strong>Doğal Dil İşleme</strong> üzerine çalışmalarına devam ediyor. Bu keyifli sohbette İrem&#39;in California&#39;ya giden serüvenini tüm detaylarıyla yer alıyor.</p>\\n<p><br></p>\\n', 'episode_name': 'S2E2 - Irem Ergun - Makine Öğrenmesi Mühendisi', 'episode_duration_timestamp': '3410', 'podcast_name': 'Kırılma Noktası'}]}]}}}]\n",
            "--------------------------------------------------------------------------------\n",
            "model -> [{'text': 'Kırılma Noktası podcastinin son 5 bölümündeki konukların isimleri şunlardır:\\n\\n1. Bahar Şevket\\n2. Umut Şirin\\n3. Nur Yeşilyurt Güçlü \\n4. Aydan Taşdemir\\n5. Burak Şentürk \\n'}]\n",
            "--------------------------------------------------------------------------------\n"
          ]
        }
      ]
    },
    {
      "cell_type": "code",
      "source": [
        "chat = model.start_chat(enable_automatic_function_calling=True)\n",
        "\n",
        "prompt = \"Bi' Gidene Soralım podcastinin 150. Bölüm'ün özetini yapar mısın?\"\n",
        "\n",
        "response = chat.send_message(prompt)\n",
        "display(Markdown(response.text))"
      ],
      "metadata": {
        "colab": {
          "base_uri": "https://localhost:8080/",
          "height": 98
        },
        "id": "jjY0iffMvyNK",
        "outputId": "882fe2c0-087e-47a9-ba21-e33cfb551b6f"
      },
      "execution_count": 126,
      "outputs": [
        {
          "output_type": "display_data",
          "data": {
            "text/plain": [
              "<IPython.core.display.Markdown object>"
            ],
            "text/markdown": "Bi' Gidene Soralım podcastinin 150. bölümünde, Masterchef yarışmasından tanıdığımız Somer Sivrioğlu konuk oluyor. Bölümde Somer Şef'in 1995 yılında yüksek lisans yapmak için Avustralya'ya taşınması ve orada kurduğu Türk restoranı Efendy'nin başarısı anlatılıyor. Somer Şef zamanla Anason, Baharat ve Maydanoz gibi başka restoranlar da açarak Türk mutfağını Avustralya'da tanıtmış. Ayrıca \"Anadolu\" adlı yemek kitabı ve Masterchef Avustralya jüriliği gibi çalışmalarıyla tanınıyor. Bölümde Somer Bey'in Avustralya'daki yaşamı, Türk ve Avustralya yemek sektörleri arasındaki farklar ve benzerlikler ve kariyeri ele alınıyor. \n"
          },
          "metadata": {}
        }
      ]
    },
    {
      "cell_type": "code",
      "source": [
        "for content in chat.history:\n",
        "    print(content.role, \"->\", [type(part).to_dict(part) for part in content.parts])\n",
        "    print('-'*80)"
      ],
      "metadata": {
        "colab": {
          "base_uri": "https://localhost:8080/"
        },
        "id": "m4pQSvptwux7",
        "outputId": "923f15ff-38aa-48f5-b366-2d0b4087961a"
      },
      "execution_count": 127,
      "outputs": [
        {
          "output_type": "stream",
          "name": "stdout",
          "text": [
            "user -> [{'text': \"Bi' Gidene Soralım podcastinin 150. Bölüm'ün özetini yapar mısın?\"}]\n",
            "--------------------------------------------------------------------------------\n",
            "model -> [{'function_call': {'name': 'api_service_all_podcasts', 'args': {}}}]\n",
            "--------------------------------------------------------------------------------\n",
            "user -> [{'function_response': {'name': 'api_service_all_podcasts', 'response': {'podcasts': [{'podcast_updated_timestamp': None, 'podcast_image_path': 'https://is3-ssl.mzstatic.com/image/thumb/Podcasts113/v4/af/d8/ac/afd8ac9e-1485-43b6-5f5a-3be0701ba4a7/mza_4069295067848953951.jpeg/640x640bb.png', 'podcast_feed_url': 'https://feeds.podcastmirror.com/zihnimin-kivrimlari', 'podcast_total_episode_count': None, 'podcast_genre_primary': 'TECH', 'podcast_cover_color': '#00BC5C', 'podcast_updated_date': None, 'podcast_id': '1505264003', 'podcast_description': 'Hayatımızın her yanını kaplayan teknoloji bizim isteğimizle mi şekilleniyor yoksa o mu bizi şekillendiriyor? Araçlarının aracı haline gelmiş insanoğlunun yüzleşmesine dair bir ifade tutanağı. Teknoloji ve Trend Yazarı M. Serdar Kuzuloğlu’nun zihin kıvrımlarına davetlisiniz.', 'podcast_publisher': 'M. Serdar Kuzuloğlu', 'podcast_website': 'https://www.mserdark.com/zihnimin-kivrimlari/', 'podcast_name': 'Zihnimin Kıvrımları'}, {'podcast_publisher': 'Seyfeddin Başsaraç, Mert Bulan', 'podcast_image_path': 'https://is3-ssl.mzstatic.com/image/thumb/Podcasts125/v4/9a/db/eb/9adbebd2-8b88-e54d-9155-4708a95a38c3/mza_5701839664883402044.jpg/640x640bb.png', 'podcast_cover_color': '#0498DC', 'podcast_website': 'https://farkli-dusun.simplecast.com', 'podcast_updated_date': None, 'podcast_id': '1572640234', 'podcast_feed_url': 'https://feeds.simplecast.com/npDtqJd7', 'podcast_updated_timestamp': None, 'podcast_name': 'Farklı Düşün', 'podcast_description': \"Çoğunlukla Apple, teknoloji, kitaplar ve yazılım dünyası hakkında sohbet ettiğimiz, zaman zaman da teknolojiyi hayatının bir parçası haline getirmiş konukları davet ederek yeni şeyler öğrendiğimiz bir podcast. Seyfeddin İstanbul'da yaşıyor ve MonoFor'da ürün yöneticisi olarak çalışıyor. Mert ise Hamburg'da yaşıyor ve Shopify'da yazılım geliştirici olarak çalışıyor.\", 'podcast_genre_primary': 'TECH', 'podcast_total_episode_count': None}, {'podcast_cover_color': '#2B2D32', 'podcast_updated_timestamp': None, 'podcast_total_episode_count': None, 'podcast_website': 'https://nasil-olunur.simplecast.com', 'podcast_publisher': 'Storytel', 'podcast_name': 'Nasıl Olunur', 'podcast_id': '1458003492', 'podcast_updated_date': None, 'podcast_genre_primary': 'STORYTELLING', 'podcast_description': 'Nilay Örnek mikrofonu mesleklerini ustalıkla icra ettiğini düşündüğü insanlara yöneltip onlara aynı soruyu soruyor; Nasıl Olunur', 'podcast_feed_url': 'https://feeds.simplecast.com/TRRbx_5C', 'podcast_image_path': 'https://is2-ssl.mzstatic.com/image/thumb/Podcasts125/v4/a2/e7/65/a2e765f3-be0b-23d1-da29-c8aac957d9da/mza_3773305927165867661.jpg/640x640bb.png'}, {'podcast_description': 'Eran Filiba ve Ender Ahmet Yurt tarafından haftada iki yayınlanan Türkçe podcast. Türkiye ve Dünya’da teknoloji şirketlerinin nasıl ürün ve yazılım geliştirdiklerini öğrenebilmek üzerine her bölüm farklı bir şirketi misafir ediyor, ürün geliştirme süreçlerini anlamaya çalışıyoruz.', 'podcast_total_episode_count': None, 'podcast_name': 'Üretim Bandı', 'podcast_feed_url': 'https://www.spreaker.com/show/2760879/episodes/feed', 'podcast_cover_color': '#FF6B5F', 'podcast_id': '1316366757', 'podcast_website': 'http://www.uretimbandi.com', 'podcast_genre_primary': 'TECH', 'podcast_image_path': 'https://is3-ssl.mzstatic.com/image/thumb/Podcasts125/v4/4b/5a/d0/4b5ad056-55b8-f076-c8b8-3e451a3de6bc/mza_3670159721073446755.jpg/640x640bb.png', 'podcast_publisher': 'Üretim Bandı', 'podcast_updated_timestamp': None, 'podcast_updated_date': None}, {'podcast_name': \"Bi' Gidene Soralım | Türkçe Podcast\", 'podcast_total_episode_count': None, 'podcast_id': '1492497448', 'podcast_publisher': 'Emre Onar', 'podcast_image_path': 'https://is4-ssl.mzstatic.com/image/thumb/Podcasts125/v4/fa/17/de/fa17deac-2809-b13f-f10c-4d09be46b502/mza_9279045598460548540.jpg/640x640bb.png', 'podcast_cover_color': '#0C0C10', 'podcast_updated_timestamp': None, 'podcast_updated_date': None, 'podcast_genre_primary': 'SOCIAL_SCIENCE', 'podcast_feed_url': 'https://anchor.fm/s/11464e8c/podcast/rss', 'podcast_website': 'https://anchor.fm/bi-gidene-soralim', 'podcast_description': 'Uluslararası para transferi şirketi TransferGo sunar\\n\\nYurtdışına taşınmanın ve yurtdışında yaşamanın çokça merak edildiği bu dönemde hep yurtdışına gitmeyi konuşuyoruz, peki ya sonrasında neler oluyor? \\n\\nemail: bigidenesoralim@gmail.com'}, {'podcast_description': 'Teknoloji sektöründe çalışan insanlar olarak büyük bir değişim ve yer değiştirme içerisindeyiz. Bu podcastte bu yer değiştirme yolculuklarını konuşuyor olacağız.', 'podcast_updated_date': None, 'podcast_updated_timestamp': None, 'podcast_publisher': 'Bilge', 'podcast_name': 'Kırılma Noktası', 'podcast_genre_primary': 'STORYTELLING', 'podcast_image_path': 'https://is5-ssl.mzstatic.com/image/thumb/Podcasts122/v4/98/e3/c0/98e3c0a3-7091-6d54-694a-d8eb4967d087/mza_13044051537852782707.jpg/640x640bb.png', 'podcast_website': 'https://anchor.fm/kirilmanoktasi', 'podcast_total_episode_count': None, 'podcast_id': '1621059757', 'podcast_feed_url': 'https://anchor.fm/s/89482400/podcast/rss', 'podcast_cover_color': '#074685'}, {'podcast_cover_color': '#095460', 'podcast_total_episode_count': None, 'podcast_feed_url': 'https://rss.art19.com/baris-ozcan-ile-111-hz', 'podcast_website': 'https://art19.com/shows/baris-ozcan-ile-111-hz', 'podcast_description': \"Öyle hikayeler vardır ki onları sadece dinleyerek anlayabilirsiniz. Barış Özcan, sanat, tasarım ve teknoloji dünyasından en sıradışı hikayeleri paylaştığı '111 Hz' ile sizleri eşsiz bir işitsel yolculuğa davet ediyor. Kulaklıklarınızı takın ve yepyeni bir deneyime hazır olun.\", 'podcast_name': 'Barış Özcan ile 111 Hz', 'podcast_image_path': 'https://is2-ssl.mzstatic.com/image/thumb/Podcasts112/v4/33/50/be/3350be71-69e2-c721-046c-7aa9f33713a5/mza_13385599715846650636.jpeg/640x640bb.png', 'podcast_genre_primary': 'TECH', 'podcast_updated_date': None, 'podcast_updated_timestamp': None, 'podcast_publisher': 'Podbee Media', 'podcast_id': '1574497387'}, {'podcast_updated_timestamp': None, 'podcast_description': \"Evrim Ağacı'nda yayınladığımız içeriklerden yaptığımız seçkilerin çeşitli yazarlarımız ve ses sanatçılarımız tarafından seslendirilmiş versiyonlarını burada bulabilirsiniz.\", 'podcast_id': '1477467491', 'podcast_image_path': 'https://is4-ssl.mzstatic.com/image/thumb/Podcasts113/v4/56/ca/0e/56ca0e74-5a9f-2c0a-3fd4-30fde77142c4/mza_5559490795164215118.jpg/640x640bb.png', 'podcast_publisher': 'Evrim Ağacı', 'podcast_genre_primary': 'SCIENCE', 'podcast_updated_date': None, 'podcast_name': 'Evrim Ağacı ile Bilime Dair Her Şey!', 'podcast_cover_color': '#c5242b', 'podcast_website': 'https://player.whooshkaa.com/shows/evrim-agaci-ile-bilime-dair-her-sey', 'podcast_total_episode_count': None, 'podcast_feed_url': 'https://evrimagaci.org/rss/podcast/1'}, {'podcast_genre_primary': 'SOCIAL_SCIENCE', 'podcast_website': 'https://www.podcastbpt.com/ortamlarda-satilacak-bilgi', 'podcast_feed_url': 'https://anchor.fm/s/44a38a74/podcast/rss', 'podcast_publisher': 'Podcast BPT', 'podcast_name': 'Ortamlarda Satılacak Bilgi', 'podcast_updated_date': None, 'podcast_updated_timestamp': None, 'podcast_cover_color': '#e0cc30', 'podcast_image_path': 'https://is5-ssl.mzstatic.com/image/thumb/Podcasts122/v4/92/be/7b/92be7b8d-1b03-3d23-3aad-f56bf7230417/mza_13965151882947800456.jpg/640x640bb.png', 'podcast_id': '1549686147', 'podcast_total_episode_count': None, 'podcast_description': \"Kültür, Sanat, Edebiyat, Felsefe, Psikoloji, Kişisel Gelişim, Belgesel, Film kısaca Ortamlarda Satabileceğiniz bilgilerin olduğu podcastler.\\nInstagram: instagram.com/ortamlardasatilacakbilgi/\\nTwitter: https://twitter.com/OrtamlardaB\\nReklam ve iş birlikleri için: OrtamlardaSatilacakBilgi@gmail.com\\nPatreon'dan destek olmak için:\\nwww.patreon.com/osbpatreon\"}, {'podcast_total_episode_count': None, 'podcast_cover_color': '#020202', 'podcast_feed_url': 'https://feeds.simplecast.com/yR1Q30dP', 'podcast_description': 'Trendyol Tech ekibinin deneyimlerini paylaşıldığı, farklı konseptlerde podcastler!', 'podcast_id': '1533091931', 'podcast_genre_primary': 'TECH', 'podcast_updated_timestamp': None, 'podcast_image_path': 'https://is3-ssl.mzstatic.com/image/thumb/Podcasts112/v4/77/f0/6c/77f06c73-36bc-c7a1-34fc-edddc5f8de7a/mza_1890266297670393229.jpg/640x640bb.png', 'podcast_name': 'Trendyol Tech Podcasts', 'podcast_website': 'https://www.trendyol.com', 'podcast_publisher': 'Trendyol', 'podcast_updated_date': None}, {'podcast_total_episode_count': None, 'podcast_updated_timestamp': None, 'podcast_name': '5 Dakikada Teknoloji Gündemi', 'podcast_publisher': 'Bubble Works Media', 'podcast_cover_color': '#0a0619', 'podcast_feed_url': 'https://feeds.megaphone.fm/GOOIN9052529152', 'podcast_id': '1543327302', 'podcast_website': 'https://bubbleworksmedia.com/', 'podcast_updated_date': None, 'podcast_genre_primary': 'TECH', 'podcast_description': \"Hafta içi her gün, dünyadan ve Türkiye'den teknoloji ve girişimcilikle ilgili yaşanan gündemin 10 dakikadan kısa bir sürede anlatıldığı Bubble Works Media podcastidir. Co-Hostlar Berkay Yılmazalp, Atakan Babacan ve Seha Gürbüz.\", 'podcast_image_path': 'https://is1-ssl.mzstatic.com/image/thumb/Podcasts112/v4/11/9c/9e/119c9eaa-159e-2d76-7a95-52806af6e061/mza_3960727210335580839.jpg/640x640bb.png'}, {'podcast_total_episode_count': None, 'podcast_image_path': 'https://is4-ssl.mzstatic.com/image/thumb/Podcasts112/v4/2a/33/be/2a33be7b-284c-e7df-1f31-7e20aec75bab/mza_9984728640917636452.jpeg/640x640bb.png', 'podcast_website': 'https://bubbleworksmedia.com/', 'podcast_updated_date': None, 'podcast_updated_timestamp': None, 'podcast_name': '5 Dakikada Dünya Gündemi', 'podcast_publisher': 'Pusholder / Bubble Works Media', 'podcast_genre_primary': 'NEWS_AND_POLITICS', 'podcast_cover_color': '#960017', 'podcast_feed_url': 'https://feeds.megaphone.fm/5-dakikada-dunya-gundemi', 'podcast_id': '1655980733', 'podcast_description': \"5 Dakikada Dünya Gündemi, Özlem Gürses’le hafta içi her gün, dünyadan ve Türkiye'den gündeme dair mutlaka kaçırmaman gereken haberleri en yalın ve anlaşılır halleriyle sana ulaştırdığımız Pusholder ve Bubble Works Media podcastidir.\\nSoru, öneri ve iş birlikleri için: info@bubbleworksmedia.com\"}, {'podcast_description': \"2 Girişimci 1 Gazeteci 3 Kadın'ın sunduğu İş'te Gelecek podcast serisinde; çeşitli sektörlerin önemli yöneticileriyle, kendi alanında başarıya ulaşmış girişimcilerle, sektöründe inovasyon yaratmış isimlerle  iş dünyasının gelecek perspektifi ve geleceğe yön veren projeler konuşuluyor.\\nReklam ve iş birliği talepleriniz için: podcastsatis@karnaval.com\", 'podcast_updated_timestamp': None, 'podcast_id': '1593662389', 'podcast_publisher': 'Şehnaz Aygül, Burcu Tuvay, Selin Özocak via karnaval.com', 'podcast_genre_primary': 'BUSINESS_MANAGEMENT_AND_MARKETING', 'podcast_total_episode_count': None, 'podcast_cover_color': '#244E7F', 'podcast_image_path': 'https://is2-ssl.mzstatic.com/image/thumb/Podcasts116/v4/a9/b0/58/a9b0586e-e73a-3ab9-4815-14037a5793a9/mza_522010877520623505.jpg/640x640bb.png', 'podcast_updated_date': None, 'podcast_feed_url': 'https://www.omnycontent.com/d/playlist/5af088d6-01f8-4b3d-b372-acb600f45df6/7f811153-ad86-4d47-9c19-add600acc0ee/1d9746d5-dce9-44ea-92d6-add600bea722/podcast.rss', 'podcast_website': 'https://karnaval.com/programlar/iste-gelecek', 'podcast_name': \"İş'te Gelecek\"}, {'podcast_image_path': 'https://is3-ssl.mzstatic.com/image/thumb/Podcasts124/v4/1f/3a/fc/1f3afcd4-004b-46cc-b7b1-f12e045d8ff5/mza_9554251179578059084.jpeg/640x640bb.png', 'podcast_cover_color': '#7A2787', 'podcast_name': 'Fularsız Entellik', 'podcast_genre_primary': 'PHILOSOPHY_AND_OTHER_BIG_IDEAS', 'podcast_feed_url': 'https://rss.art19.com/fularsz-entellik', 'podcast_description': 'Halk için, halka rağmen entellik. İlginç konular + eleştirel düşünce + bildiğin Türkçe.', 'podcast_total_episode_count': None, 'podcast_website': 'https://art19.com/shows/fularsz-entellik', 'podcast_publisher': 'Immanuel Tolstoyevski | Podbee Media', 'podcast_id': '1471554610', 'podcast_updated_timestamp': None, 'podcast_updated_date': None}, {'podcast_name': 'Odadaki Fil', 'podcast_genre_primary': 'COMEDY', 'podcast_updated_date': None, 'podcast_cover_color': '#020202', 'podcast_description': \"Fatih Aker ve Doktor, odadaki filin peşinden tuzlukla koşuyorlar.\\nYeni bölümlerden haberdar olmak için instagram'da odadaki_fil hesabını ya da spotify, apple podcasts vb. platformlarda sayfamızı takip ederseniz dünya daha güzel bir yer olabilir.\\nhttps://www.instagram.com/odadaki_fil/\", 'podcast_website': 'http://odadakifil.libsyn.com/', 'podcast_publisher': 'Odadaki Fil', 'podcast_feed_url': 'https://odadakifil.libsyn.com/rss', 'podcast_total_episode_count': None, 'podcast_id': '1494356847', 'podcast_image_path': 'https://is4-ssl.mzstatic.com/image/thumb/Podcasts126/v4/d1/eb/7e/d1eb7e51-7320-5ae5-a646-e1fc90860b09/mza_16524865780552517020.png/640x640bb.png', 'podcast_updated_timestamp': None}, {'podcast_genre_primary': 'TECH', 'podcast_publisher': 'veri tezgahi', 'podcast_total_episode_count': None, 'podcast_website': 'https://anchor.fm/veri-tezgahi', 'podcast_updated_date': None, 'podcast_cover_color': '#616FB1', 'podcast_id': '1525335606', 'podcast_description': 'Machine Learning ve Yapay Zeka uygulamalarının endüstri ve akademi içerisindeki kullanımlarını uzmanlarıyla tartıştığımız haftalık podcast.\\nTwitter: @veritezgahi\\nwebsite: https://anchor.fm/veri-tezgahi', 'podcast_name': 'Veri Tezgahı', 'podcast_updated_timestamp': None, 'podcast_image_path': 'https://is3-ssl.mzstatic.com/image/thumb/Podcasts124/v4/93/14/c4/9314c4e8-ae7f-036a-5761-f94321ccc730/mza_8883296845124059482.jpg/640x640bb.png', 'podcast_feed_url': 'https://anchor.fm/s/9fb4984/podcast/rss'}, {'podcast_updated_date': None, 'podcast_feed_url': 'https://feeds.simplecast.com/3Ro7Vrg6', 'podcast_updated_timestamp': None, 'podcast_website': 'http://www.codefiction.tech', 'podcast_image_path': 'https://is4-ssl.mzstatic.com/image/thumb/Music71/v4/1a/49/7b/1a497bef-94ad-3fc5-5672-7cfe079497aa/source/640x640bb.png', 'podcast_cover_color': '#e06558', 'podcast_name': 'Codefiction Podcast', 'podcast_genre_primary': 'TECH', 'podcast_total_episode_count': None, 'podcast_id': '1172391831', 'podcast_description': 'Podcast by Codefiction Community', 'podcast_publisher': 'Codefiction Community'}, {'podcast_feed_url': 'https://feeds.megaphone.fm/swipelinepodcasttr', 'podcast_website': 'https://www.swipeline.co/', 'podcast_description': 'Türkiye’de ve Dünyada teknolojiye yön veren insanları, girişimcileri konuk edip; hikayelerini, şirketi nasıl büyüttüklerini, başarılarını ve başarısızlıklarını dinliyoruz. Hostlar: Umut Yaka ve Erdem Şentunalı. Daha fazla girişimcilik ve teknoloji içerikleri için Instagram hesabımızı takip edin: @swipeline_tr', 'podcast_updated_date': None, 'podcast_updated_timestamp': None, 'podcast_cover_color': '#282828', 'podcast_id': '1459800092', 'podcast_name': 'Swipeline', 'podcast_publisher': 'Swipeline', 'podcast_genre_primary': 'ENTREPRENEURSHIP', 'podcast_total_episode_count': None, 'podcast_image_path': 'https://is4-ssl.mzstatic.com/image/thumb/Podcasts122/v4/98/65/11/986511a3-3ddd-0612-9659-fa89b5840746/mza_11392681001854530649.jpg/640x640bb.png'}, {'podcast_id': '1532120385', 'podcast_website': 'https://cms.megaphone.fm/channel/podfresh-daily', 'podcast_image_path': 'https://is3-ssl.mzstatic.com/image/thumb/Podcasts116/v4/fd/d0/32/fdd03267-e92b-dd25-31cf-d059d9c29c91/mza_2550420407764065852.jpg/640x640bb.png', 'podcast_name': 'Podfresh Daily', 'podcast_publisher': 'Podfresh: Uraz Kaspar & Aykut İbrişim', 'podcast_cover_color': '#f99a21', 'podcast_genre_primary': 'TECH', 'podcast_feed_url': 'https://feeds.megaphone.fm/podfresh-daily', 'podcast_total_episode_count': None, 'podcast_description': 'Türkiye\\'nin ilk günlük Podcast Bülteni! \"Podfresh Daily\"; Uraz Kaspar ve Aykut İbrişim tarafından hazırlanıp sunulan bir mikro-podcast yayınıdır. Her sabah saat tam 10:00\\'da, Türkiye\\'den ve Dünya\\'dan podcast sektörüne ait güncel gelişmeleri, podcast haberlerini, yeni podcast duyurularını günlük olarak yorumladığımız bültenimizi keyifle dinleyebilirsiniz!', 'podcast_updated_date': None, 'podcast_updated_timestamp': None}, {'podcast_name': 'Haddini Aşan Yaşam Rehberi', 'podcast_total_episode_count': None, 'podcast_image_path': 'https://is1-ssl.mzstatic.com/image/thumb/Podcasts112/v4/c7/a9/e5/c7a9e533-6a17-8a41-1095-c494475cf2ef/mza_9685882508596495867.jpeg/640x640bb.png', 'podcast_updated_date': None, 'podcast_publisher': 'Podbee Media', 'podcast_updated_timestamp': None, 'podcast_cover_color': '#7DB37E', 'podcast_feed_url': 'https://rss.art19.com/haddini-asan-yasam-rehberi', 'podcast_website': 'https://art19.com/shows/haddini-asan-yasam-rehberi', 'podcast_genre_primary': 'TECH', 'podcast_id': '1732994227', 'podcast_description': \"Bu çağın belirsizliğine yaraşır şekilde, haddini bilmek ile aşmak arasında savrulanların acil durum toplanma alanı; Haddini Aşan Yaşam Rehberi'ne hoşgeldiniz! M. Serdar Kuzuloğlu ve Podbee Media'nın beraber hazırladığı Haddini Aşan Yaşam Rehberi podcast'i hayata sorular yöneltmenin, öğrendiklerini aktarmanın, bilmediklerini ise bilenlere sormanın vesilesi.\"}, {'podcast_website': 'https://yemekte-bile-yemek-konusuyoruz.simplecast.com', 'podcast_publisher': 'Nilay Örnek, Sinan Hamamsarılar', 'podcast_image_path': 'https://is1-ssl.mzstatic.com/image/thumb/Podcasts112/v4/65/d7/3d/65d73d8e-b16a-678f-842f-0538bda9dac8/mza_5331466772051258548.jpg/640x640bb.png', 'podcast_updated_timestamp': None, 'podcast_name': 'Yemekte Bile Yemek Konuşuyoruz', 'podcast_genre_primary': 'FOOD', 'podcast_feed_url': 'https://feeds.simplecast.com/leyT8Ibc', 'podcast_description': \"Yemekteyken bile yemek konuşacak kadar yemeğe düşkün olanların podcasti #YBYK'ye hoş geldiniz!\\n\\nBiz Nilay Örnek ve Sinan Hamamsarılar. Bu podcast serisinde adından da anlaşılabileceği gibi, yeme-içme ve yemek kültüründen söz açacağız. \\nBazen konuklarla olacağız, bazen kendi aramızda konuşacağız.\\n\\nbilgi@yemektebileyemekkonusuyoruz.com\", 'podcast_id': '1732921810', 'podcast_cover_color': '#a98764', 'podcast_updated_date': None, 'podcast_total_episode_count': None}, {'podcast_id': '1478897251', 'podcast_description': 'Hayatımız günlük koşuşturmanın içinde akıp gidiyor. İster kendi işinizin sahibi, isterseniz çalışan olun. Hepimiz biliyoruz ki iş hayatı hiç #kolaydegil. Bunu hem kendimiz, hem de sizin için kolaylaştırmak istiyoruz.', 'podcast_updated_date': None, 'podcast_cover_color': '#0d0d0d', 'podcast_genre_primary': 'BUSINESS_MANAGEMENT_AND_MARKETING', 'podcast_name': 'Kolay Değil', 'podcast_publisher': 'Kolay Değil', 'podcast_feed_url': 'https://anchor.fm/s/d72d7f8/podcast/rss', 'podcast_total_episode_count': None, 'podcast_website': 'https://anchor.fm/kolaydegil', 'podcast_updated_timestamp': None, 'podcast_image_path': 'https://is2-ssl.mzstatic.com/image/thumb/Podcasts122/v4/b8/97/cd/b897cd2a-4dae-e8ce-321b-092011dbc5f7/mza_4345883258667310651.jpg/640x640bb.png'}, {'podcast_genre_primary': 'ENTREPRENEURSHIP', 'podcast_image_path': 'https://is5-ssl.mzstatic.com/image/thumb/Podcasts116/v4/26/cc/83/26cc835a-0dd7-691d-95c3-9e5ecaf58d99/mza_8302559647996509508.jpg/640x640bb.png', 'podcast_id': '1672506404', 'podcast_description': 'İki haftada bir, Ussal Şahbaz teknoloji, toplum ve politikanın teknoloji, toplum, politika kesişiminde dünyada olup bitenlerin Türkiye’ye yansımalarını tartışıyor. Teknoloji, sanat ve siyaset dünyasında ilginç konuklar yatırılmayan konuları masaya yatırıyor. Dünyada ve Türkiye’de en büyük startup dolandırıcılıkları neler? Yapay zeka falınıza bakabilir mi? Medya işinden para kazanmak mümkün mü? Buna benzer soruların cevaplarını merak ediyorsanız, bu podcasti kaçırmayın!', 'podcast_total_episode_count': None, 'podcast_feed_url': 'https://www.spreaker.com/show/5782648/episodes/feed', 'podcast_cover_color': '##141935', 'podcast_website': 'https://www.ussal.net/', 'podcast_updated_timestamp': None, 'podcast_updated_date': None, 'podcast_name': 'Ussal Şahbaz ile Global İşler +', 'podcast_publisher': 'Wand Media Network'}, {'podcast_image_path': 'https://is1-ssl.mzstatic.com/image/thumb/Podcasts126/v4/6a/88/55/6a88557c-6be9-b146-b0fe-b16266c7ac63/mza_6653564627537911275.png/640x640bb.png', 'podcast_id': '1712368675', 'podcast_description': 'Yapay zeka konularında uzman kişileri konuk ederek onlara yapay zekanın farklı kullanım alanları hakkında sorular soruyor ve güncel teknojiler hakkında görüşlerini alıyoruz.', 'podcast_website': 'https://ai-podcast-website.vercel.app', 'podcast_publisher': 'AI and \"Yavuz Kömeçoğlu\" collaboration', 'podcast_name': 'AI Podcast', 'podcast_updated_timestamp': None, 'podcast_updated_date': None, 'podcast_feed_url': 'https://ai-podcast-website.vercel.app/podcast.xml', 'podcast_genre_primary': 'SELF_IMPROVEMENT', 'podcast_cover_color': '#7f16f6', 'podcast_total_episode_count': None}]}}}]\n",
            "--------------------------------------------------------------------------------\n",
            "model -> [{'function_call': {'name': 'last_episodes_by_podcast_id', 'args': {'podcast_id': '1492497448'}}}]\n",
            "--------------------------------------------------------------------------------\n",
            "user -> [{'function_response': {'name': 'last_episodes_by_podcast_id', 'response': {'podcastepisodes': [{'episodes': [{'podcast_id': '1492497448', 'episode_guid': '416c4941-c01b-4d44-849a-2b3e4b0c8978', 'episode_published_date': '2024-07-12', 'podcast_name': \"Bi' Gidene Soralım | Türkçe Podcast\", 'is_processed_data': False, 'episode_published_timestamp': None, 'episode_summary': '<p>Bu bölümde İsviçre’ye gidiyoruz ve yaklaşık 3 senedir Basel’de yaşayan Gökçe Algan konuğum.\\xa0</p>\\n<p>Geçtiğimiz ay Kore bölümünü paylaştıktan sonra oradaki kadın-erkek eşitsizliği üzerinden Bi Gidene Soralın’ın Instagram hesabında çok fazla mesaj aldım ve bunların arasında İsviçre öne çıkıyordu. Çocukları olan kadınların kariyer yapmasına toplumun kötü bakması, kadınlara seçme ve seçilme hakkının 1990’da verilmesi gibi konuların sosyolojik arka planı vesaire derken hem ben hem takipçilerim çok şaşırmıştık.\\xa0Bu bölümde Gökçe ile bu konuyu araladık!</p>\\n<p>Gökçe, Galatasaray Lisesi ve Galatasaray Üniversitesi mezunu. Paris&#39;te Sciences-Po&#39;da değişim programına katılmış ve Pantheon-Sorbonne&#39;da yüksek lisans yapmış. Ayrıca, Paris&#39;te bir düşünce kuruluşunda ve New York&#39;ta Birleşmiş Milletler&#39;de staj yapmış. İstanbul&#39;da, birçoğumuzun aşina olduğu Fransa merkezli bir iletişim ajansının genel müdürü olarak çalışmış ve ajansın büyümesinde aktif rol oynamış.</p>\\n<p>İsviçre’ye eşinin işi sebebiyle, kızları 1 yaşındayken taşınmış ve bu süreçte birçok zorlukla karşılaşmış. İlk yılını depresyonun eşiğinde geçirmiş ve sonrasında iş bulup çalışmaya başlamış. Şu anda İsviçre&#39;nin önde gelen saat markalarından birinin merkez ofisinde uluslararası PR manager olarak çalışıyor.\\xa0<br>Gökçe ile kendisini İsviçre’de tekrar var etme sürecini, karşılaştığı zorlukları, İsviçre&#39;de çalışan bir anne olarak iş hayatını ve kültürel farklılıkları konuştuk.</p>\\n<p>Kişisel sağlık uygulaması Heltia ile tanışmak ve %10 iindirimli olarak yararlanmak isterseniz &quot;BiGIDENE10&quot; kodunu kullanabilirsiniz. Daha detaylı bilgi için\\xa0<a href=\"https://heltia.go.link/?adj_t=1db0zuzy_1dx6pv96\" target=\"_blank\" rel=\"noopener noreferer\">www.getheltia.com</a>\\xa0adresini ziyaret edebilirsiniz.\\xa0</p>\\n<p>Uygun kur ve düşük gönderim ücretiyle yurt dışı para transferlerinizi kolayca yapabileceğiniz TransferGo uygulamasını \\u2060\\u2060\\u2060\\u2060\\u2060\\u2060\\u2060\\u2060<a href=\"http://bit.ly/bigidenesoralim\" target=\"_blank\">http://bit.ly/bigidenesoralim</a>\\u2060\\u2060\\u2060\\u2060\\u2060\\u2060\\u2060\\u2060&#39;dan indirip inceleyebilirsiniz</p>\\n', 'episode_audio_url': None, 'episode_name': '6.18 İsviçre’de Yaşamak | Gökçe Algan', 'episode_duration_timestamp': '4017', 'episode_duration': '01:06:57', 'episode_id': '222408725', 'episode_description': None}, {'episode_guid': '674ed51c-13b7-491f-a6e1-085a74beb97b', 'episode_duration': '01:03:14', 'episode_id': '220284682', 'episode_published_timestamp': None, 'is_processed_data': False, 'episode_audio_url': None, 'podcast_id': '1492497448', 'episode_duration_timestamp': '3794', 'episode_published_date': '2024-07-02', 'episode_name': \"6.17 Londra'da Emlak Dinamikleri | İzel Seloni\", 'episode_summary': '<p>Bu bölümde en çok istek alan konulardan birine gidiyoruz ve Londra’da emlak konusunu masaya yatırıyoruz. Daha önce 2. sezonda böyle birkaç konuklu bir bölüm yapmıştık ve hala en sık dinlenen bölümlerden ama bu sefer konunun uzmanı biri konuğum: <a href=\"https://www.hapinestlondon.com/\" target=\"_blank\" rel=\"noopener noreferer\">İzel Seloni</a>. Kendisi emlak sektöründe 12 yıllık bir tecrübeye sahip ve Londra&#39;da emlak alım-satım, kiralama gibi alanlarda yaklaşık üç senedir <a href=\"https://www.hapinestlondon.com/\" target=\"_blank\" rel=\"noopener noreferer\">Hapinest </a>isimli kendi firmasıyla yola devam ediyor.<br>İzel, İstanbul Bilgi Üniversitesi&#39;nde Uluslarası Ticaret okuduktan sonra University of Roehampton&#39;da Uluslararası İşletme alanında yüksek lisans yapıyor. Sonrasında JLL ve Emaar gibi ünlü emlak firmalarında iş hayatına başlıyor ve bir süre Dubai’de de çalışıyor. Bir yandan kariyerine devam ederken Özyeğin Üniversitesi&#39;nde ve Riordan School for Retail Real Estate Professionals&#39;da aldığı sertifika programları ile emlak sektöründe bilgilerini pekiştiriyor.<br>2021’de Londra’ya taşındıktan sonra bir süre bir firmanın İngiltere Ülke Müdürü olarak çalışıyor ve 2.5 senedir Hapinest markasıyla girişimcilik serüvenine başlıyor.<br>İzel ile Londra’daki emlak piyasasını, satın alma süreçlerini, en revaçta mahalleleri ve emlak yatırımı yapmanın püf noktalarını konuştuk.\\n</p>\\n<p>İzel&#39;in şirketinin detayları:</p>\\n<p><a href=\"https://www.hapinestlondon.com/\" target=\"_blank\" rel=\"noopener noreferer\">https://www.hapinestlondon.com/</a></p>\\n<p><a href=\"https://www.instagram.com/hapinest_london/\" target=\"_blank\" rel=\"noopener noreferer\">https://www.instagram.com/hapinest_london/\\n</a></p>\\n<p>\\nUygun kur ve düşük gönderim ücretiyle yurt dışı para transferlerinizi kolayca yapabileceğiniz TransferGo uygulamasını \\u2060\\u2060\\u2060\\u2060\\u2060\\u2060\\u2060\\u2060<a href=\"http://bit.ly/bigidenesoralim\" target=\"_blank\" rel=\"noopener noreferer\">http://bit.ly/bigidenesoralim</a>\\u2060\\u2060\\u2060\\u2060\\u2060\\u2060\\u2060\\u2060&#39;dan indirip inceleyebilirsiniz.</p>\\n', 'episode_description': None, 'podcast_name': \"Bi' Gidene Soralım | Türkçe Podcast\"}, {'is_processed_data': True, 'episode_duration': '00:32:37', 'episode_summary': '<p>5 senedir devam eden podcast maceramızda\\xa0150. bölüme geldik ve bu özel bölümün özel konuğu, ricamı kırmayıp gelen Somer Sivrioğlu! <br>Somer Şef’i herkes Masterchef ile tanıyor ve eminim birçoğunuz kendisinin Avustralya’daki uzun senelere yayılan kariyerini de biliyordur.<br>Kendisi bundan yaklaşık 30 sene önce, 1995’te Bilkent Turizm Otelcilik’i bitirdikten sonra yüksek lisans yapmak amacıyla Avustralya’ya taşınıyor.\\xa0 </p>\\n<p>Türkiye’deki zengin yemek kültürünü ve geleneklerini Avustralya’ya taşıma arzusuyla, Avustralya’nın en saygın Türk restoranı olan Efendy’yi Sidney’de açıyor. Efendy, kısa sürede hem Türk hem de Avustralyalılar arasında popüler bir mekan haline geliyor ve Türk mutfağının Avustralya’da iyi bir temsilcisi oluyor.</p>\\n<p><br>Efendy’ye zamanla Anason, Baharat, Maydanoz gibi başka restoranlar da ekleniyor ve zaman içinde Somer Şef’in şef unvanının yanına yazarlık ve televizyon yıldızlığı da ekleniyor. Türk yemeklerini ve kültürünü daha geniş bir kitleye tanıtmak için çeşitli platformları kullanıyor. </p>\\n<p>Üç dilde yayınlanan “Anadolu” adlı kitabı, Türk mutfağının zenginliğini ve çeşitliliğini vurgulayan ödüllü bir eser haline geliyor. Ayrıca, Türkiye’deki Masterchef’ten önce Masterchef Avustralya’da da jüri üyesi olarak görev alıyor.<br>Yani Somer Bey kısaca hem Türkiye’de hem de Avustralya’da yemek endüstrisine katkılarıyla çok önemli bir isim. Bu bölümde Somer Bey’in Avustralya’daki yaşamını, Türk ve Avustralya yemek sektörü arasındaki farkları ve benzerlikleri, ve seneler boyunca hep üstüne koyarak inşa ettiği kariyerini konuştuk.\\xa0<br>\\xa0Uygun kur ve düşük gönderim ücretiyle yurt dışı para transferlerinizi kolayca yapabileceğiniz TransferGo uygulamasını \\u2060\\u2060\\u2060\\u2060\\u2060\\u2060\\u2060\\u2060<a href=\"http://bit.ly/bigidenesoralim\" target=\"_blank\" rel=\"noreferrer\">http://bit.ly/bigidenesoralim</a>\\u2060\\u2060\\u2060\\u2060\\u2060\\u2060\\u2060\\u2060&#39;dan indirip inceleyebilirsiniz.</p>\\n', 'episode_published_timestamp': None, 'episode_name': '150. Bölüm: Somer Sivrioğlu ile Avustralya', 'episode_id': '218117178', 'episode_audio_url': None, 'episode_description': None, 'podcast_id': '1492497448', 'episode_published_date': '2024-06-20', 'episode_duration_timestamp': '1957', 'episode_guid': '44f81cbb-2f58-4712-ad5e-644a77173436', 'podcast_name': \"Bi' Gidene Soralım | Türkçe Podcast\"}, {'podcast_id': '1492497448', 'episode_audio_url': None, 'podcast_name': \"Bi' Gidene Soralım | Türkçe Podcast\", 'episode_duration_timestamp': '3232', 'episode_guid': 'b893a8be-ec1b-4d97-9fc1-7594f76a9645', 'episode_summary': '<p>Bu bölümde tekrar Güney Kore’ye gidiyoruz ve 2.5 senedir orada yaşayan Doğan Arslan konuğum.\\xa0</p>\\n<p>Geçtiğimiz sezon İdil ve Miray ile kaydettiğimiz Kore bölümü çok konuşulmuştu ve özellikle kadınların toplumda ve iş hayatında geri planda bırakılmasına herkes hayret etmişti. Bakalım bir erkek gözüyle de Doğan&#39;dan benzer yorumlar mı gelecek çok merak ediyorum.\\xa0</p>\\n<p>Zonguldak Atatürk Anadolu Lisesi&#39;nden ve Yıldız Teknik Üniversitesi İnşaat Mühendisliği mezunu Doğan daha sonra İTÜ’de Yapı Mühendisliği alanında yüksek lisans yaparken 2008’de iş hayatına başlıyor ve uzun seneler çalışıyor.\\xa0</p>\\n<p>Birkaç sene önce şu an Kore&#39;de çalışmaya devam ettiği Koreli firmanın, tasarımını ve inşasını yaptıkları Çanakkale Köprüsü&#39;nde mühendis olarak çalışmaya başlıyor. Bu şekilde İstanbul&#39;dan Çanakkale&#39;ye taşınıyor.\\xa0</p>\\n<p>Çanakkale’de 2 yıl çalıştıktan sonra, işlerin tamamlandığı, Kore&#39;ye dönme hazırlıklarının başladığı dönemde Seul merkez ofiste çalışmaya devam etme teklifi geliyor ve hiç planlamadığı halde, tam da pandemi döneminin ortasında kendisini\\xa0Seul&#39;e yerleşirken buluyor.\\xa0</p>\\n<p>\\nUygun kur ve düşük gönderim ücretiyle yurt dışı para transferlerinizi kolayca yapabileceğiniz TransferGo uygulamasını\\xa0\\u2060\\u2060\\u2060\\u2060\\u2060\\u2060\\u2060<a href=\"http://bit.ly/bigidenesoralim\">\\u2060http://bit.ly/bigidenesoralim\\u2060</a>\\u2060\\u2060\\u2060\\u2060\\u2060\\u2060\\u2060&#39;dan indirip inceleyebilirsiniz.</p>\\n', 'episode_id': '210849167', 'episode_duration': '00:53:52', 'episode_published_date': '2024-05-24', 'episode_description': None, 'episode_published_timestamp': None, 'episode_name': \"6.15 Güney Kore'de Yaşamak | Doğan Arslan\", 'is_processed_data': True}, {'episode_name': \"6.14 Kanada'ya Göç Etmek | Burcu Akyol\", 'podcast_name': \"Bi' Gidene Soralım | Türkçe Podcast\", 'episode_id': '207034637', 'episode_duration_timestamp': '2605', 'episode_published_timestamp': None, 'episode_duration': '00:43:25', 'is_processed_data': True, 'episode_audio_url': None, 'podcast_id': '1492497448', 'episode_description': None, 'episode_summary': '<p>Kanada’dan bir göçmen danışmanı konuğum var! Eğitim sektöründe 17 yıllık bir kariyerin ardından, 2017 yılında ailesiyle birlikte Kanada&#39;ya göç ederek yeni bir hayata adım atan ve burada kendi göç danışmanlığı şirketi <a href=\"https://www.northernpathways.ca/\" target=\"_blank\" rel=\"noopener noreferer\">Northern Pathways Immigration Consulting</a>&#39;i kurarak birçok kişinin Kanada&#39;daki yeni yaşam hayallerine kavuşmasına yardımcı olan göç danışmanı Burcu Akyol konuğum.\\xa0</p>\\n<p><br></p>\\n<p>Kendisi aynı zamanda EduPathways ile işbirliği içinde, eğitim ve kariyer danışmanlığı alanında önemli çalışmalar yürütmekte, Queen’s Üniversitesi’nde geleceğin göçmenlik danışmanlarını yetiştirmekte ve Kanada profesyonel göçmen danışmanları birliği yani CAPIC (Canadian Association of Professional Immigration Consultants) derneğinde yönetim kurulu üyesi olarak göçmenlik alanındaki profesyonel standartların yükseltilmesi için çalışıyor.\\xa0</p>\\n<p><br></p>\\n<p>Bu bölümde onunla Kanada&#39;daki farklı vize türlerinden, göç danışmanı olma yoluna, Kanada&#39;ya taşınma yöntemlerinden orada yaşamanın avantaj ve dezavantajlarına kadar pek çok konuyu ele aldık.</p>\\n<p>\\n<a href=\"https://www.northernpathways.ca/\" target=\"_blank\">https://www.northernpathways.ca/</a>\\n<a href=\"https://www.instagram.com/kanadadayeniyasam\" target=\"_blank\" rel=\"noopener noreferer\">https://www.instagram.com/kanadadayeniyasam</a>\\n\\nUygun kur ve düşük gönderim ücretiyle yurt dışı para transferlerinizi kolayca yapabileceğiniz TransferGo uygulamasını\\xa0\\u2060\\u2060\\u2060\\u2060\\u2060\\u2060\\u2060<a href=\"http://bit.ly/bigidenesoralim\" target=\"_blank\" rel=\"noopener noreferer\">http://bit.ly/bigidenesoralim</a>\\u2060\\u2060\\u2060\\u2060\\u2060\\u2060\\u2060&#39;dan indirip inceleyebilirsiniz.\\n\\n\\n</p>\\n', 'episode_published_date': '2024-05-07', 'episode_guid': '5db0cb9d-2bbb-4175-bb71-ee1eab1b5433'}, {'episode_id': '200063846', 'podcast_id': '1492497448', 'episode_summary': \"Bu bölümde Belçika’ya gidiyoruz ve hem Türkiye hem Belçika’da avukat olarak çalıştıktan sonra kariyer koçu olarak kendine bir yol çizen Gizem ile kendi hikayesi kadar yurtdışında kariyer için tavsiyelerini de konuştuğumuz bir bölüm oldu.\\nRobert ve Koç Hukuk mezunu Gizem, rekabet hukuku üzerine Türkiye’nin önde gelen hukuk bürolarında çalıştıktan sonra Belçika’ya taşınıyor ve\\xa0Liège Üniversitesi'nde Avrupa Rekabet ve Fikri Mülkiyet Hukuku üzerine yüksek lisans yaparak uzmanlığını ilerletiyor ve bir yandan avukat olarak çalışmaya devam ediyor. Ayrıca Brüksel Rekabet Okulu'nda da yine Avrupa Birliği Rekabet Hukuku ve Ekonomi üzerine ikinci bir yüksek lisans daha yapıyor.\\nBununla birlikte, Ocak 2021'den beri kariyer ve iş stratejisi koçluğu sunan kendi girişimi Gizem Gogus Coaching'i kurarak yeni bir yola adım atıyor ve şimdi sadece Belçika değil, Hollanda gibi farklı ülkelerde de danışmanlık veriyor. Bir yandan da yeniden üniversite okumaya karar verip \\nLiège Üniversitesi'nde psikoloji lisans programına başlıyor ve şu anda ikinci sınıfı tamamlamak üzere. Ayrıca kendisi iki çocuk annesi ve Gizem ile Belçika'daki eğitim sistemindeki farkları da konuştuk.\\nUygun kur ve düşük gönderim ücretiyle yurt dışı para transferlerinizi kolayca yapabileceğiniz TransferGo uygulamasını\\xa0\\u2060\\u2060\\u2060\\u2060\\u2060\\u2060\\u2060http://bit.ly/bigidenesoralim\\u2060\\u2060\\u2060\\u2060\\u2060\\u2060\\u2060'dan indirip inceleyebilirsiniz.\\n\\n\\n\\n\\n\", 'episode_audio_url': None, 'episode_duration_timestamp': '3165', 'episode_duration': '00:52:45', 'episode_published_date': '2024-03-31', 'episode_guid': '9c6fe3af-d71d-4cdc-8cbf-a282f2fad305', 'is_processed_data': True, 'episode_published_timestamp': None, 'episode_name': \"6.13 Belçika ve Liege'de Yaşamak | Gizem Göğüş Tubez\", 'episode_description': None, 'podcast_name': \"Bi' Gidene Soralım | Türkçe Podcast\"}, {'episode_duration_timestamp': '2810', 'is_processed_data': True, 'episode_guid': '897081a1-53aa-437b-a41c-b10ee02facf0', 'podcast_id': '1492497448', 'episode_audio_url': None, 'episode_published_timestamp': None, 'episode_id': '197969210', 'episode_description': None, 'episode_summary': '<p>Bu bölümde Karayipler’deki Virjin Adaları’na gidiyoruz ve 2 senedir orada yaşayan Nargiza konuğum.\\n</p>\\n<p>Aslında bu bölümün başlığı Virjin Adaları olsa da içinde göç içinde göç gibi bir sürpriz barındırıyor.\\xa0Nargiza, Özbek asıllı ve Kırgızistan doğumlu. Türkiye’ye olan sevgisi ve ilgisiyle orada Türk dili ve edebiyatı okuyor ve değişim öğrencisi olarak da TOBB Üniversitesi’ne Ankara’ya gidiyor. O sırada TRT’nin Orta Asya, Balkanlar ve Kafkaslar’a yayın yapan kanalı TRT AVAZ’dan teklif almasıyla Türkiye’de çalışmaya başlıyor.\\xa0\\n</p>\\n<p>Yaklaşık 7 sene Ankara’da çalıştıktan sonra İstanbul’a taşınıyor ve hepimizin bildiği bir kozmetik şirketinde pazarlama alanında çalışmaya başlıyor. Amerikalı eşiyle İstanbul’da tanışması ve evlenmeleri akabininde eşinin iş teklifi almasıyla ABD Virjin Adaları’na taşınıyorlar.\\n</p>\\n<p>Kristof Kolomb’un 15. yüzyılda keşfettiği ve İspanyollar, İngilizler, Felemenkler, Danimarkalılar gibi farklı Avrupalı devletlerin egemenliğinde kalan adaları 1917’de ABD, Danimarka’dan 25 milyon dolar karşılığı satın alıyor.\\nNargiza ile ilk 15 dakika Türkiye’ye taşınmasını ve Türkiye’deki yaşamını, sonra da Virjin Adaları’ndaki hayatını konuştuk.\\xa0\\n\\n2.7 Karayipler&#39;de 20 Bin Nüfuslu Adada Bir Türk Restoranı\\n3.8 Küba&#39;da Yaşamak\\n\\nUygun kur ve düşük gönderim ücretiyle yurt dışı para transferlerinizi kolayca yapabileceğiniz TransferGo uygulamasını\\xa0\\u2060\\u2060\\u2060\\u2060\\u2060\\u2060\\u2060http://bit.ly/bigidenesoralim\\u2060\\u2060\\u2060\\u2060\\u2060\\u2060\\u2060&#39;dan indirip inceleyebilirsiniz.</p>\\n', 'episode_published_date': '2024-03-18', 'podcast_name': \"Bi' Gidene Soralım | Türkçe Podcast\", 'episode_name': \"6.12 Virjin Adaları'nda Yaşamak | Nargiza MacMillan\", 'episode_duration': '00:46:50'}, {'episode_published_timestamp': None, 'episode_summary': '<p>İngiltere’ye geri dönüyoruz ve bu sefer İngiltere’nin kuzeyine, Newcastle’a gidiyoruz. Yaklaşık 4 senedir orada yaşayan Ahmet Altun konuğum.<br>Trakya Üniversitesi Makine Mühendisliği mezunu Ahmet, mezun olduktan sonra İstanbul&#39;da çalışmaya başlıyor ama yurt dışına gitmek hep aklında var. 2017 yılında kariyer değişikliği yaparak yurt dışında çalışma hayallerini gerçekleştirmek için İngilizce öğrenmeye ve mesleki yetkinliğini artırmaya başlıyor. </p>\\n<p>2019 yılında daha yetkin hissetmeye başlamasıyla Avrupa’da kendisine uygun olduğunu düşündüğü pek çok işe seri olarak başvurmaya başlıyor. İlk başlarda yurtdışında taşınma fikrine karşı çıkan eşi de karar değiştiriyor ve 2019 itibariyle tam gaz yurtdışında iş arıyorlar. </p>\\n<p>Cevapsız başvurular ve Almanya’da başarısız olan bir mülakat sonrası bile pes etmeyen Ahmet, İngiltere&#39;de bir firmada iş buluyor ve 2020&#39;de İngiltere&#39;ye taşınıyorlar<br>İngiltere&#39;ye taşındıktan sonra da iş değiştiriyor ve Siemens&#39;te güvenlik mühendisliği danışmanı olarak çalışıyor. Eşi de İngiltere’de doğum sonrası iş hayatına dönüyor ve o da üretim planlama mühendisi olarak çalışıyor.<br>Ahmet ile pes etmeden başvuru sürecini, Newcastle&#39;da hayatı ve A&#39;dan Z&#39;ye İngiltere&#39;de yaşamayı konuştuk.\\n\\nUygun kur ve düşük gönderim ücretiyle yurt dışı para transferlerinizi kolayca yapabileceğiniz TransferGo uygulamasını\\xa0\\u2060\\u2060\\u2060\\u2060\\u2060<a href=\"http://bit.ly/bigidenesoralim\">\\u2060http://bit.ly/bigidenesoralim\\u2060</a>\\u2060\\u2060\\u2060\\u2060\\u2060&#39;dan indirip inceleyebilirsiniz.</p>\\n', 'episode_audio_url': None, 'podcast_name': \"Bi' Gidene Soralım | Türkçe Podcast\", 'podcast_id': '1492497448', 'episode_published_date': '2024-03-11', 'episode_id': '196523118', 'episode_duration_timestamp': '3605', 'episode_guid': '028f27b8-c966-4372-9661-a4adbe5ac613', 'episode_name': \"6.11 Newcastle ve İngiltere'de Yaşamak | Ahmet Altun\", 'episode_duration': '01:00:05', 'episode_description': None, 'is_processed_data': True}, {'episode_duration': '00:59:09', 'episode_summary': \"Bu bölümde Güney Amerika’ya gidiyoruz ve dijital göçebe olarak iki senedir dünyayı gezip bir yandan kendini işini kurup çalışan Nergis Yüksel konuğum.\\nÜsküdar Amerikan ve Boğaziçi Sosyoloji ve Psikoloji çift anadal mezunu Nergis, 10 sene önce 2013'te İngiltere'ye taşındı. Reading Üniversitesi'nde klinik psikoloji üzerine yüksek lisans yaptıktan sonra etkinlik yönetimine geçiş yaptı ve Ankara Anlaşması ile bu alanda çalışmaya başladı. Hatta 3. sezon 4. bölümde kendisiyle İngiltere’de düğün ve etkinlik yönetimi üzerine konuşmuştuk.\\nPandemi sırasında etkinliklerin bitmesiyle dijital pazarlamaya ve SEO'ya yönelen Nergis, İngiliz vatandaşlığını aldıktan sonra dijital göçebe olarak kendi işini kurarak dünyayı gezmeye karar verdi.\\nYaklaşık bir sene Bali, Malezya ve Tayland'da yaşadıktan sonra Türkiye, İtalya ve İngiltere'de zaman geçirdi ve 2023 sonunda, 6 ay önce, Güney Amerika'ya taşındı. Önce Buenos Aires, şimdi Cusco’da yaşayan Nergis ile bu bölümde kendi işini kurarak uzaktan çalışma deneyimini konuştuk.\\n\\nUygun kur ve düşük gönderim ücretiyle yurt dışı para transferlerinizi kolayca yapabileceğiniz TransferGo uygulamasını\\xa0\\u2060\\u2060\\u2060\\u2060\\u2060http://bit.ly/bigidenesoralim\\u2060\\u2060\\u2060\\u2060\\u2060\\xa0'dan indirip inceleyebilirsiniz.\\n\\nDijital göçebelik ile alakalı diğer bölümler:\\n6.4 Koh Samui'de Yaşamak | Esra Güzeloğlu\\n5.26 Lizbon'da Yaşamak ve Dijital Göçebe Vizesi | İmren Tütüncü\\n4.30 Dijital Göçebe Vizesi ile Portekiz | Özge Oldaç\\n\\n\\n\\n\", 'episode_duration_timestamp': '3549', 'episode_id': '192160872', 'episode_published_timestamp': None, 'podcast_id': '1492497448', 'episode_published_date': '2024-02-20', 'episode_description': None, 'is_processed_data': True, 'episode_audio_url': None, 'episode_guid': '3e88f745-34db-4b3c-b8e7-b93a98c5c576', 'episode_name': '6.10 Dijital Göçebe Olarak Dünyayı Gezmek | Nergis Yüksel', 'podcast_name': \"Bi' Gidene Soralım | Türkçe Podcast\"}, {'is_processed_data': True, 'episode_id': '189965963', 'podcast_name': \"Bi' Gidene Soralım | Türkçe Podcast\", 'episode_published_timestamp': None, 'episode_published_date': '2024-02-08', 'episode_summary': '<p>Tekrar Almanya’dayız ve 7 yıl önce taşınıp yeni bir hayat kuran Bahar &amp; Serkan Beyde çifti konuğum. Kendilerini @seyahathikayeleri ve @serkanbeyde blog, YouTube ve Instagram hesaplarından da tanıyor olabilirsiniz. <br></p>\\n<p>Serkan ve Bahar, Türkiye&#39;de evlendikten hemen sonra, ev kurmak yerine tüm birikimlerini alıp Almanya&#39;da yeni bir yaşam kurma hayallerinin peşinden gitmeye karar veriyorlar. Amaçları hem Serkan&#39;ın dil öğrenmesi hem de Bahar’ın yüksek lisans yapması. İlk üç yıllarını Münih&#39;te geçirdikten sonra Hamburg&#39;a taşınıyorlar.<br>\\nSerkan Anadolu Üniversitesi Radyo-Televizyon mezunu, Bahar ise İTÜ Gıda Mühendisliği ve Endüstri Mühendisliği çift anadal mezunu. Bahar, sonrasında Münih Teknik Üniversitesi&#39;nde Yönetim Bilişim Sistemleri üzerine yüksek lisans yapıyor. Serkan, içerik üreticisi olarak çalışıyor ve sosyal medya alanında kendi şirketinin sahibi, Bahar ise başarılı bir IT proje yöneticisi.\\n\\nTürkiye’den Almanya’ya uzanan hikayelerini, adaptasyon süreçlerini, tavsiyelerini ve Münih ve Hamburg gibi iki farklı şehirde yaşamlarını konuştuk.</p>\\n<p>\\nUygun kur ve düşük gönderim ücretiyle yurt dışı para transferlerinizi kolayca yapabileceğiniz TransferGo uygulamasını\\xa0\\u2060\\u2060<a href=\"http://bit.ly/bigidenesoralim\">\\u2060\\u2060\\u2060\\u2060http://bit.ly/bigidenesoralim\\u2060\\u2060\\u2060\\u2060</a>\\u2060\\u2060\\xa0&#39;dan indirip inceleyebilirsiniz.</p>\\n', 'episode_description': None, 'episode_audio_url': None, 'episode_name': \"6.9 Almanya'da Yaşamak | Bahar & Serkan Beyde\", 'episode_duration': '00:46:17', 'episode_guid': 'afdd1a33-140c-4513-b4b8-f84dd1e3762d', 'episode_duration_timestamp': '2777', 'podcast_id': '1492497448'}], 'podcast': {'podcast_image_path': 'https://is4-ssl.mzstatic.com/image/thumb/Podcasts125/v4/fa/17/de/fa17deac-2809-b13f-f10c-4d09be46b502/mza_9279045598460548540.jpg/640x640bb.png', 'podcast_updated_date': '2022-06-26 12:25:52', 'podcast_genre_primary': 'SOCIAL_SCIENCE', 'podcast_id': '1492497448', 'podcast_website': 'https://anchor.fm/bi-gidene-soralim', 'podcast_total_episode_count': '158', 'podcast_feed_url': 'https://anchor.fm/s/11464e8c/podcast/rss', 'podcast_description': 'Uluslararası para transferi şirketi TransferGo sunar\\n\\nYurtdışına taşınmanın ve yurtdışında yaşamanın çokça merak edildiği bu dönemde hep yurtdışına gitmeyi konuşuyoruz, peki ya sonrasında neler oluyor? \\n\\nemail: bigidenesoralim@gmail.com', 'podcast_cover_color': None, 'podcast_name': \"Bi' Gidene Soralım | Türkçe Podcast\", 'podcast_updated_timestamp': '1656246352000', 'podcast_publisher': 'Emre Onar'}}]}}}]\n",
            "--------------------------------------------------------------------------------\n",
            "model -> [{'text': 'Bi\\' Gidene Soralım podcastinin 150. bölümünde, Masterchef yarışmasından tanıdığımız Somer Sivrioğlu konuk oluyor. Bölümde Somer Şef\\'in 1995 yılında yüksek lisans yapmak için Avustralya\\'ya taşınması ve orada kurduğu Türk restoranı Efendy\\'nin başarısı anlatılıyor. Somer Şef zamanla Anason, Baharat ve Maydanoz gibi başka restoranlar da açarak Türk mutfağını Avustralya\\'da tanıtmış. Ayrıca \"Anadolu\" adlı yemek kitabı ve Masterchef Avustralya jüriliği gibi çalışmalarıyla tanınıyor. Bölümde Somer Bey\\'in Avustralya\\'daki yaşamı, Türk ve Avustralya yemek sektörleri arasındaki farklar ve benzerlikler ve kariyeri ele alınıyor. \\n'}]\n",
            "--------------------------------------------------------------------------------\n"
          ]
        }
      ]
    }
  ]
}