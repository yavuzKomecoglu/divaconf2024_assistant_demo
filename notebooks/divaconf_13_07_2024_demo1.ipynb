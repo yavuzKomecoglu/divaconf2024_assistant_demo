{
  "nbformat": 4,
  "nbformat_minor": 0,
  "metadata": {
    "colab": {
      "provenance": []
    },
    "kernelspec": {
      "name": "python3",
      "display_name": "Python 3"
    },
    "language_info": {
      "name": "python"
    }
  },
  "cells": [
    {
      "cell_type": "markdown",
      "source": [
        "# Create Your Own Data-Connected Assistant - DivaConf2024\n",
        "## Gemini API: Function calling with Python\n",
        "\n",
        "![Diva: Dive into AI](https://cdn.prod.website-files.com/6645f6ac57776cd5f3e4ac96/66633085e40eb51b599aedf3_indigo_soft_2.png \"Diva: Dive into AI\")\n",
        "\n",
        "https://www.divaconf.com/"
      ],
      "metadata": {
        "id": "C_NBqcy5MhDz"
      }
    },
    {
      "cell_type": "markdown",
      "source": [
        "Gemini'de Fonksiyon Çağrısı, geliştiricilerin kodlarında bir fonksiyonun açıklamasını oluşturmasına ve ardından bu açıklamayı bir istekte bir dil modeline aktarmasına olanak tanır. Modelden gelen yanıt, açıklamayla eşleşen bir fonksiyonun adını ve onu çağıracak argümanları içerir.\n",
        "\n",
        "\n",
        "![Function Calling Mimarisi Şeması](https://cloud.google.com/static/vertex-ai/generative-ai/docs/multimodal/images/function-calling.png \"Function Calling Mimarisi\")\n",
        "\n",
        "[Resim Kaynağı](https://https://cloud.google.com/vertex-ai/generative-ai/docs/multimodal/function-calling)\n",
        "\n"
      ],
      "metadata": {
        "id": "-e8wvIemNnEV"
      }
    },
    {
      "cell_type": "markdown",
      "source": [
        "### Paket Kurulumu"
      ],
      "metadata": {
        "id": "aEsF35NfLwoY"
      }
    },
    {
      "cell_type": "code",
      "source": [
        "!pip install google-generativeai==0.7.2"
      ],
      "metadata": {
        "id": "M5dgywAWNq5E"
      },
      "execution_count": null,
      "outputs": []
    },
    {
      "cell_type": "markdown",
      "source": [
        "### Kütüphanelerin Tanımlanması ve Ayarların Yapılması"
      ],
      "metadata": {
        "id": "oYHuapf9NN2e"
      }
    },
    {
      "cell_type": "code",
      "source": [
        "import google.generativeai as genai"
      ],
      "metadata": {
        "id": "EZE3Yh3ZOKJe"
      },
      "execution_count": 1,
      "outputs": []
    },
    {
      "cell_type": "code",
      "source": [
        "# Google Cloud APIs: https://console.cloud.google.com/apis/dashboard\n",
        "# Google AI Studio - API KEY: https://aistudio.google.com/app/apikey\n",
        "\n",
        "GOOGLE_API_KEY = \"{GOOGLE AI STUDIO - API KEY}\"\n",
        "\n",
        "genai.configure(api_key=GOOGLE_API_KEY)"
      ],
      "metadata": {
        "id": "ULig_FUzOthj"
      },
      "execution_count": 2,
      "outputs": []
    },
    {
      "cell_type": "markdown",
      "source": [
        "### Örnek Fonksiyonların Tamımlanması"
      ],
      "metadata": {
        "id": "8QuvleEZNh43"
      }
    },
    {
      "cell_type": "code",
      "source": [
        "def find_movies(description: str, location: str = \"\"):\n",
        "    \"\"\"find movie titles currently playing in theaters based on any description, genre, title words, etc.\n",
        "\n",
        "    Args:\n",
        "        description: Any kind of description including category or genre, title words, attributes, etc.\n",
        "        location: The city and state, e.g. San Francisco, CA or a zip code e.g. 95616\n",
        "    \"\"\"\n",
        "    return [\"Barbie\", \"Oppenheimer\"]\n",
        "\n",
        "\n",
        "def find_theaters(location: str, movie: str = \"\"):\n",
        "    \"\"\"Find theaters based on location and optionally movie title which are is currently playing in theaters.\n",
        "\n",
        "    Args:\n",
        "        location: The city and state, e.g. San Francisco, CA or a zip code e.g. 95616\n",
        "        movie: Any movie title\n",
        "    \"\"\"\n",
        "    return [\"Googleplex 16\", \"Android Theatre\"]\n",
        "\n",
        "\n",
        "def get_showtimes(location: str, movie: str, theater: str, date: str):\n",
        "    \"\"\"\n",
        "    Find the start times for movies playing in a specific theater.\n",
        "\n",
        "    Args:\n",
        "      location: The city and state, e.g. San Francisco, CA or a zip code e.g. 95616\n",
        "      movie: Any movie title\n",
        "      thearer: Name of the theater\n",
        "      date: Date for requested showtime\n",
        "    \"\"\"\n",
        "    return [\"10:00\", \"11:00\"]"
      ],
      "metadata": {
        "id": "h6DP-Jb8O3fv"
      },
      "execution_count": 3,
      "outputs": []
    },
    {
      "cell_type": "code",
      "source": [
        "functions = {\n",
        "    \"find_movies\": find_movies,\n",
        "    \"find_theaters\": find_theaters,\n",
        "    \"get_showtimes\": get_showtimes,\n",
        "}\n",
        "\n",
        "model = genai.GenerativeModel(model_name=\"gemini-1.5-flash\", tools=functions.values())"
      ],
      "metadata": {
        "id": "ALZgkKAkWo5S"
      },
      "execution_count": 4,
      "outputs": []
    },
    {
      "cell_type": "code",
      "source": [
        "response = model.generate_content(\n",
        "    \"Mountain View'daki hangi sinemalarda Barbie filmi gösteriliyor?\"\n",
        ")\n",
        "response.candidates[0].content.parts"
      ],
      "metadata": {
        "colab": {
          "base_uri": "https://localhost:8080/",
          "height": 329
        },
        "id": "Arl5Wlz7Wv5B",
        "outputId": "6529dda3-b89e-413c-dc34-b3ac819f6e87"
      },
      "execution_count": 5,
      "outputs": [
        {
          "output_type": "execute_result",
          "data": {
            "text/plain": [
              "[function_call {\n",
              "  name: \"find_theaters\"\n",
              "  args {\n",
              "    fields {\n",
              "      key: \"location\"\n",
              "      value {\n",
              "        string_value: \"Mountain View, CA\"\n",
              "      }\n",
              "    }\n",
              "    fields {\n",
              "      key: \"movie\"\n",
              "      value {\n",
              "        string_value: \"Barbie\"\n",
              "      }\n",
              "    }\n",
              "  }\n",
              "}\n",
              "]"
            ]
          },
          "metadata": {},
          "execution_count": 5
        }
      ]
    },
    {
      "cell_type": "code",
      "source": [
        "def call_function(function_call, functions):\n",
        "    function_name = function_call.name\n",
        "    function_args = function_call.args\n",
        "    return functions[function_name](**function_args)\n",
        "\n",
        "\n",
        "part = response.candidates[0].content.parts[0]\n",
        "\n",
        "# Check if it's a function call; in real use you'd need to also handle text\n",
        "# responses as you won't know what the model will respond with.\n",
        "if part.function_call:\n",
        "    result = call_function(part.function_call, functions)\n",
        "\n",
        "print(result)"
      ],
      "metadata": {
        "colab": {
          "base_uri": "https://localhost:8080/"
        },
        "id": "lAxyICsRW9Yj",
        "outputId": "e2c541cb-1792-4c85-9b02-bed506ff46c2"
      },
      "execution_count": 6,
      "outputs": [
        {
          "output_type": "stream",
          "name": "stdout",
          "text": [
            "['Googleplex 16', 'Android Theatre']\n"
          ]
        }
      ]
    },
    {
      "cell_type": "code",
      "source": [
        "from google.protobuf.struct_pb2 import Struct\n",
        "\n",
        "# Put the result in a protobuf Struct\n",
        "s = Struct()\n",
        "s.update({\"result\": result})\n",
        "\n",
        "# Update this after https://github.com/google/generative-ai-python/issues/243\n",
        "function_response = genai.protos.Part(\n",
        "    function_response=genai.protos.FunctionResponse(name=\"find_theaters\", response=s)\n",
        ")\n",
        "\n",
        "# Build the message history\n",
        "messages = [\n",
        "    # fmt: off\n",
        "    {\"role\": \"user\",\n",
        "     \"parts\": [\"Mountain View'daki hangi sinemalarda Barbie filmi gösteriliyor?.\"]},\n",
        "    {\"role\": \"model\",\n",
        "     \"parts\": response.candidates[0].content.parts},\n",
        "    {\"role\": \"user\",\n",
        "     \"parts\": [function_response]},\n",
        "    # fmt: on\n",
        "]\n",
        "\n",
        "# Generate the next response\n",
        "response = model.generate_content(messages)\n",
        "print(response.text)"
      ],
      "metadata": {
        "colab": {
          "base_uri": "https://localhost:8080/",
          "height": 52
        },
        "id": "iWkZ0-udXKx0",
        "outputId": "e895d5dc-0c36-4627-ec77-26dc43ecd860"
      },
      "execution_count": 7,
      "outputs": [
        {
          "output_type": "stream",
          "name": "stdout",
          "text": [
            "Mountain View'da Googleplex 16 ve Android Theatre sinemalarında Barbie filmi gösteriliyor. \n",
            "\n"
          ]
        }
      ]
    },
    {
      "cell_type": "markdown",
      "source": [
        "### Parallel function calls"
      ],
      "metadata": {
        "id": "GjOyIAzEYps6"
      }
    },
    {
      "cell_type": "code",
      "source": [
        "def power_disco_ball(power: bool) -> bool:\n",
        "    \"\"\"Powers the spinning disco ball.\"\"\"\n",
        "    print(f\"Disco ball is {'spinning!' if power else 'stopped.'}\")\n",
        "    return True\n",
        "\n",
        "\n",
        "def start_music(energetic: bool, loud: bool, bpm: int) -> str:\n",
        "    \"\"\"Play some music matching the specified parameters.\n",
        "\n",
        "    Args:\n",
        "      energetic: Whether the music is energetic or not.\n",
        "      loud: Whether the music is loud or not.\n",
        "      bpm: The beats per minute of the music.\n",
        "\n",
        "    Returns: The name of the song being played.\n",
        "    \"\"\"\n",
        "    print(f\"Starting music! {energetic=} {loud=}, {bpm=}\")\n",
        "    return \"Never gonna give you up.\"\n",
        "\n",
        "\n",
        "def dim_lights(brightness: float) -> bool:\n",
        "    \"\"\"Dim the lights.\n",
        "\n",
        "    Args:\n",
        "      brightness: The brightness of the lights, 0.0 is off, 1.0 is full.\n",
        "    \"\"\"\n",
        "    print(f\"Lights are now set to {brightness:.0%}\")\n",
        "    return True"
      ],
      "metadata": {
        "id": "4oLjASzfYWcm"
      },
      "execution_count": 8,
      "outputs": []
    },
    {
      "cell_type": "code",
      "source": [
        "# Set the model up with tools.\n",
        "house_fns = [power_disco_ball, start_music, dim_lights]\n",
        "# Try this out with Pro and Flash...\n",
        "model = genai.GenerativeModel(model_name=\"gemini-1.5-flash\", tools=house_fns)\n",
        "\n",
        "# Call the API.\n",
        "chat = model.start_chat()\n",
        "response = chat.send_message(\"Burayı partiye dönüştür!\")\n",
        "\n",
        "# Print out each of the function calls requested from this single call.\n",
        "for part in response.parts:\n",
        "    if fn := part.function_call:\n",
        "        args = \", \".join(f\"{key}={val}\" for key, val in fn.args.items())\n",
        "        print(f\"{fn.name}({args})\")"
      ],
      "metadata": {
        "colab": {
          "base_uri": "https://localhost:8080/",
          "height": 69
        },
        "id": "ntkEpVg9YjTf",
        "outputId": "a753ee8b-781b-4dd5-cf4b-b4a244398830"
      },
      "execution_count": 9,
      "outputs": [
        {
          "output_type": "stream",
          "name": "stdout",
          "text": [
            "power_disco_ball(power=True)\n",
            "start_music(bpm=120.0, loud=True, energetic=True)\n",
            "dim_lights(brightness=0.5)\n"
          ]
        }
      ]
    },
    {
      "cell_type": "code",
      "source": [
        "# Simulate the responses from the specified tools.\n",
        "responses = {\n",
        "    \"power_disco_ball\": True,\n",
        "    \"start_music\": \"Diva Yorgun\",\n",
        "    \"dim_lights\": True,\n",
        "}\n",
        "\n",
        "# Build the response parts.\n",
        "response_parts = [\n",
        "    genai.protos.Part(function_response=genai.protos.FunctionResponse(name=fn, response={\"result\": val}))\n",
        "    for fn, val in responses.items()\n",
        "]\n",
        "\n",
        "response = chat.send_message(response_parts)\n",
        "print(response.text)"
      ],
      "metadata": {
        "colab": {
          "base_uri": "https://localhost:8080/",
          "height": 52
        },
        "id": "-YRIIIVaYjWZ",
        "outputId": "86b5b66e-7b7a-4cc2-c848-8e2638aba8e4"
      },
      "execution_count": 12,
      "outputs": [
        {
          "output_type": "stream",
          "name": "stdout",
          "text": [
            "Disco topu çalışıyor, Diva Yorgun çalıyor ve ışıklar kısık. Hadi eğlenelim! \n",
            "\n"
          ]
        }
      ]
    },
    {
      "cell_type": "markdown",
      "source": [
        "**Kaynaklar;**\n",
        "\n",
        "\n",
        "*   https://ai.google.dev/gemini-api/docs/function-calling\n",
        "*   https://github.com/GoogleCloudPlatform/generative-ai/tree/main/gemini/function-calling\n",
        "\n"
      ],
      "metadata": {
        "id": "rZbWWqdzJOJY"
      }
    },
    {
      "cell_type": "code",
      "source": [],
      "metadata": {
        "id": "2sft9FpWJPKc"
      },
      "execution_count": null,
      "outputs": []
    }
  ]
}